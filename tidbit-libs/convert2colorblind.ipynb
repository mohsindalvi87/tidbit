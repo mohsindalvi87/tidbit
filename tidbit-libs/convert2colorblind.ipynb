{
 "cells": [
  {
   "cell_type": "code",
   "execution_count": 7,
   "metadata": {
    "execution": {
     "iopub.execute_input": "2021-10-14T16:58:10.879257Z",
     "iopub.status.busy": "2021-10-14T16:58:10.878257Z",
     "iopub.status.idle": "2021-10-14T16:59:18.463446Z",
     "shell.execute_reply": "2021-10-14T16:59:18.460443Z",
     "shell.execute_reply.started": "2021-10-14T16:58:10.879257Z"
    }
   },
   "outputs": [
    {
     "name": "stdout",
     "output_type": "stream",
     "text": [
      "(412, 598) (412, 598, 3)\n",
      "(412, 598) (412, 598, 3)\n",
      "(412, 598) (412, 598, 3)\n"
     ]
    }
   ],
   "source": [
    "# convert color for colorblind people \n",
    "# from http://mkweb.bcgsc.ca/colorblind/math.mhtml#page-container\n",
    "\n",
    "# HOW TO USE: Copy an image to clipboard, then run this cell. A window opens\n",
    "# that shows original, deuteranopia, tritanopia and black & white images.\n",
    "# Press ESC to close the window\n",
    "\n",
    "import numpy as np\n",
    "import cv2\n",
    "from PIL import ImageGrab\n",
    "\n",
    "# Tprotanopia = np.array( [[ 0.170557, 0.829443, 0], \n",
    "#                          [ 0.170557, 0.829443, 0], \n",
    "#                          [-0.00452, 0.00452, 1]] )\n",
    "# Tdeuteranopia = np.array( [[ 0.33066, 0.66934, 0], \n",
    "#                            [ 0.33066, 0.66934, 0], \n",
    "#                            [-0.02786, 0.02786, 1]] )\n",
    "# Ttritanopia = np.array( [[1, 0.1274,-0.1274], \n",
    "#                          [0, 0.8739, 0.1261], \n",
    "#                          [0, 0.8739, 0.1261]] )\n",
    "# Tachromatopsia = np.array( [[0.2123, 0.7152, 0.0722], \n",
    "#                             [0.2123, 0.7152, 0.0722], \n",
    "#                             [0.2123, 0.7152, 0.0722]] )\n",
    "\n",
    "def ColorblindSRGB(SRGB, anomaly=1):\n",
    "    Tanomaly = np.array( [ # choose 1 of the 4 2D arrays from this 3D array\n",
    "        [[0.2123,0.7152,0.0722], [0.2123,0.7152,0.0722],[0.2123,0.7152,0.0722]] \n",
    "        , [[0.170557,0.829443,0], [0.170557,0.829443,0], [-0.00452,0.00452,1]] \n",
    "        , [[0.33066,0.669339,0], [0.33066,0.669339,0], [-0.02786,0.02786,1]] \n",
    "        , [[1,0.12739,-0.12739], [0,0.87391,0.12609], [0,0.87391,0.12609]] \n",
    "        ] ) # [0=Achromatopsia 1=Protanopia 2=Deuteranopia 3=Tritanopia]\n",
    "    SRGB = cv2.cvtColor(SRGB, cv2.COLOR_BGR2RGB)\n",
    "    Ishape = np.shape(SRGB)[:2]\n",
    "#     print(Tanomaly[anomaly, :, :], Ishape)\n",
    "    LRGB = np.where( SRGB/255<=0.04045, SRGB/255/12.92, \\\n",
    "                     (( SRGB/255+0.055)/1.055 )**2.4)\n",
    "    AA = np.copy(LRGB)#, dtype=np.float32)\n",
    "    LRGB = np.ravel(AA).reshape((-1,3))\n",
    "    newLRGB = np.dot(LRGB,Tanomaly[anomaly, :, :].T). reshape( \\\n",
    "                    (Ishape[0],Ishape[1],3) )  # newLRGB = np.dot(Tmat,LRGB)\n",
    "\n",
    "    newLRGB = np.where(newLRGB<0, 0, newLRGB) # clip <0 to 0\n",
    "    newLRGB = np.where(newLRGB>1, 1, newLRGB) # clip >1 to 1\n",
    "    newSRGB = np.where( newLRGB<=0.0031308, newLRGB*255*12.92, \\\n",
    "                        255*( 1.055*(newLRGB**(1/2.4)) - 0.055 ) )\n",
    "    print(Ishape, np.shape(newLRGB))\n",
    "    newSRGB = np.round(newSRGB).astype('uint8')\n",
    "    return cv2.cvtColor(newSRGB, cv2.COLOR_RGB2BGR)\n",
    "\n",
    "\n",
    "# IM = np.ones([50,100], dtype=np.uint8)\n",
    "# srgb=cv2.cvtColor( cv2.merge([153*IM,142*IM,195*IM]) , cv2.COLOR_BGR2RGB)\n",
    "# srgb = cv2.imread(\"./untitled2.png\",) # \n",
    "# srgb = cv2.imread(\"./rainbow_test3.jpg\",) # (\"./sample16.jpg\",) # (\"./rainbow_test2.jpg\",) # \n",
    "\n",
    "# paste from clipboard\n",
    "img = ImageGrab.grabclipboard().convert('RGB'); \n",
    "srgb = cv2.cvtColor( np.array(img) , cv2.COLOR_RGB2BGR)\n",
    "\n",
    "if((resize:=1)==1): # do resize:=1 for resizing image\n",
    "    imW = np.shape(srgb)[:2]; scale = max(1,np.ceil((imW[0]-64)/384))\n",
    "    size = ( int(imW[1]/scale), int(imW[0]/scale) )\n",
    "    srgb = cv2.resize(srgb, size, interpolation = cv2.INTER_NEAREST)\n",
    "\n",
    "def TxtIm(text, img):\n",
    "    return cv2.putText(img,text,(10,20), cv2.FONT_HERSHEY_SIMPLEX, 0.3, \\\n",
    "                       (191,0,191), 1, cv2.LINE_AA)\n",
    "\n",
    "# cv2.imshow(\"Normal\", srgb)    \n",
    "# [0=Achromatopsia 1=Protanopia 2=Deuteranopia 3=Tritanopia]\n",
    "# ClrBld = ColorblindSRGB(srgb);  cv2.imshow(\"Default option Protanopia\", ClrBld)\n",
    "Cachr = ColorblindSRGB(srgb, 0);  # cv2.imshow(\"Achromatopsia\", Cachr)\n",
    "# Cprot = ColorblindSRGB(srgb, 1);  cv2.imshow(\"Protanopia\", Cprot)\n",
    "Cdeut = ColorblindSRGB(srgb, 2);  # cv2.imshow(\"Deuteranopia\", Cdeut)\n",
    "Ctrit = ColorblindSRGB(srgb, 3);  # cv2.imshow(\"Tritanopia\", Ctrit)\n",
    "cv2.imshow(\" \", cv2.hconcat([ cv2.vconcat([\n",
    "                            TxtIm(\"Normal\",srgb),\n",
    "                            TxtIm(\"Achromatopsia\",Cachr), ]), cv2.vconcat([\n",
    "                            TxtIm(\"Deuteranopia (Protanopia is similar)\",Cdeut),\n",
    "                            TxtIm(\"Tritanopia\",Ctrit)]) ]))\n",
    "cv2.waitKey(0)\n",
    "cv2.destroyAllWindows()"
   ]
  },
  {
   "cell_type": "code",
   "execution_count": null,
   "metadata": {},
   "outputs": [],
   "source": []
  }
 ],
 "metadata": {
  "kernelspec": {
   "display_name": "Python 3",
   "language": "python",
   "name": "python3"
  },
  "language_info": {
   "codemirror_mode": {
    "name": "ipython",
    "version": 3
   },
   "file_extension": ".py",
   "mimetype": "text/x-python",
   "name": "python",
   "nbconvert_exporter": "python",
   "pygments_lexer": "ipython3",
   "version": "3.8.5"
  }
 },
 "nbformat": 4,
 "nbformat_minor": 4
}
