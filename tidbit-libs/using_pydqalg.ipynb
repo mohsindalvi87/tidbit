{
 "cells": [
  {
   "cell_type": "code",
   "execution_count": 1,
   "metadata": {
    "execution": {
     "iopub.execute_input": "2021-08-10T13:21:15.057063Z",
     "iopub.status.busy": "2021-08-10T13:21:15.057063Z",
     "iopub.status.idle": "2021-08-10T13:21:15.902662Z",
     "shell.execute_reply": "2021-08-10T13:21:15.902662Z",
     "shell.execute_reply.started": "2021-08-10T13:21:15.057063Z"
    }
   },
   "outputs": [
    {
     "name": "stdout",
     "output_type": "stream",
     "text": [
      "conj(a) Quat(0.500000, [-0.500000, 0.500000, -0.500000])\n",
      "2b Quat(1.414200, [0.000000, 0.000000, 1.414200])\n",
      "a+b Quat(1.207100, [0.500000, -0.500000, 1.207100])\n",
      "norm(a+b) 1.8477502049790173\n",
      "inv(a+b) Quat(0.353555, [-0.146448, 0.146448, -0.353555])\n",
      "(a+b)*(a+b).inv() Quat(1.000000, [0.000000, 0.000000, 0.000000])\n",
      "a-b Quat(-0.207100, [0.500000, -0.500000, -0.207100])\n",
      "(a*b).q2axisangle() (array([ 0.        , -0.70710678,  0.70710678]), 3.141592653589793)\n",
      "(b*a).q2axisangle() (array([0.70710678, 0.        , 0.70710678]), 3.141592653589793)\n",
      "(a*b).q2rotmat() [[1. 2. 2.]\n",
      " [2. 1. 2.]\n",
      " [2. 2. 1.]]\n",
      "(b*a).q2rotmat() [[1. 2. 2.]\n",
      " [2. 1. 2.]\n",
      " [2. 2. 1.]]\n",
      "(a*b).q2rollpitchyaw() (1.1071487177940904, nan, 1.1071487177940904)\n",
      "(b*a).q2rollpitchyaw() (1.1071487177940904, nan, 1.1071487177940904)\n"
     ]
    },
    {
     "name": "stderr",
     "output_type": "stream",
     "text": [
      "G:\\MOHSIN work\\reports n ppts\\tidbit-notes\\tidbit-libs\\pydqalg.py:115: RuntimeWarning: invalid value encountered in arcsin\n",
      "  p = np.arcsin(-R[2, 0])\n"
     ]
    }
   ],
   "source": [
    "import pydqalg as dq\n",
    "\n",
    "\n",
    "a = dq.Quat(.5, [.5,-.5,.5])\n",
    "b = dq.Quat(.7071, [0,0,.7071])\n",
    "print(\"conj(a)\", a.conj())\n",
    "print(\"2b\", 2*b)\n",
    "print(\"a+b\", a+b)\n",
    "print(\"norm(a+b)\", (a+b).norm())\n",
    "print(\"inv(a+b)\", (a+b).inv())\n",
    "print(\"(a+b)*(a+b).inv()\", (a+b)*(a+b).inv())\n",
    "print(\"a-b\", a-b)\n",
    "print(\"(a*b).q2axisangle()\", (a*b).q2axisangle())\n",
    "print(\"(b*a).q2axisangle()\", (b*a).q2axisangle())\n",
    "print(\"(a*b).q2rotmat()\", (a*b).q2rotmat())\n",
    "print(\"(b*a).q2rotmat()\", (b*a).q2rotmat())\n",
    "print(\"(a*b).q2rollpitchyaw()\", (a*b).q2rollpitchyaw())\n",
    "print(\"(b*a).q2rollpitchyaw()\", (b*a).q2rollpitchyaw())\n"
   ]
  },
  {
   "cell_type": "code",
   "execution_count": 1,
   "metadata": {
    "execution": {
     "iopub.execute_input": "2021-08-10T13:19:46.245777Z",
     "iopub.status.busy": "2021-08-10T13:19:46.245777Z",
     "iopub.status.idle": "2021-08-10T13:19:46.410894Z",
     "shell.execute_reply": "2021-08-10T13:19:46.409893Z",
     "shell.execute_reply.started": "2021-08-10T13:19:46.245777Z"
    }
   },
   "outputs": [
    {
     "ename": "NameError",
     "evalue": "name 'a' is not defined",
     "output_type": "error",
     "traceback": [
      "\u001b[1;31m---------------------------------------------------------------------------\u001b[0m",
      "\u001b[1;31mNameError\u001b[0m                                 Traceback (most recent call last)",
      "\u001b[1;32m<ipython-input-1-17efbe44623a>\u001b[0m in \u001b[0;36m<module>\u001b[1;34m\u001b[0m\n\u001b[1;32m----> 1\u001b[1;33m \u001b[0mnorm\u001b[0m \u001b[1;33m=\u001b[0m \u001b[0ma\u001b[0m\u001b[1;33m.\u001b[0m\u001b[0mnorm\u001b[0m\u001b[1;33m(\u001b[0m\u001b[1;33m)\u001b[0m\u001b[1;33m\u001b[0m\u001b[1;33m\u001b[0m\u001b[0m\n\u001b[0m",
      "\u001b[1;31mNameError\u001b[0m: name 'a' is not defined"
     ]
    }
   ],
   "source": [
    "norm = a.norm()"
   ]
  },
  {
   "cell_type": "code",
   "execution_count": 3,
   "metadata": {
    "execution": {
     "iopub.execute_input": "2021-08-10T13:04:41.909223Z",
     "iopub.status.busy": "2021-08-10T13:04:41.909223Z",
     "iopub.status.idle": "2021-08-10T13:04:41.919230Z",
     "shell.execute_reply": "2021-08-10T13:04:41.918229Z",
     "shell.execute_reply.started": "2021-08-10T13:04:41.909223Z"
    }
   },
   "outputs": [
    {
     "name": "stdout",
     "output_type": "stream",
     "text": [
      "[3 4 3] 10 10 10 [-4  8 -4] [2 4 6] [6 4 2]\n"
     ]
    },
    {
     "data": {
      "text/plain": [
       "\u001b[1;31mDocstring:\u001b[0m\n",
       "inner(a, b)\n",
       "\n",
       "Inner product of two arrays.\n",
       "\n",
       "Ordinary inner product of vectors for 1-D arrays (without complex\n",
       "conjugation), in higher dimensions a sum product over the last axes.\n",
       "\n",
       "Parameters\n",
       "----------\n",
       "a, b : array_like\n",
       "    If `a` and `b` are nonscalar, their last dimensions must match.\n",
       "\n",
       "Returns\n",
       "-------\n",
       "out : ndarray\n",
       "    `out.shape = a.shape[:-1] + b.shape[:-1]`\n",
       "\n",
       "Raises\n",
       "------\n",
       "ValueError\n",
       "    If the last dimension of `a` and `b` has different size.\n",
       "\n",
       "See Also\n",
       "--------\n",
       "tensordot : Sum products over arbitrary axes.\n",
       "dot : Generalised matrix product, using second last dimension of `b`.\n",
       "einsum : Einstein summation convention.\n",
       "\n",
       "Notes\n",
       "-----\n",
       "For vectors (1-D arrays) it computes the ordinary inner-product::\n",
       "\n",
       "    np.inner(a, b) = sum(a[:]*b[:])\n",
       "\n",
       "More generally, if `ndim(a) = r > 0` and `ndim(b) = s > 0`::\n",
       "\n",
       "    np.inner(a, b) = np.tensordot(a, b, axes=(-1,-1))\n",
       "\n",
       "or explicitly::\n",
       "\n",
       "    np.inner(a, b)[i0,...,ir-1,j0,...,js-1]\n",
       "         = sum(a[i0,...,ir-1,:]*b[j0,...,js-1,:])\n",
       "\n",
       "In addition `a` or `b` may be scalars, in which case::\n",
       "\n",
       "   np.inner(a,b) = a*b\n",
       "\n",
       "Examples\n",
       "--------\n",
       "Ordinary inner product for vectors:\n",
       "\n",
       ">>> a = np.array([1,2,3])\n",
       ">>> b = np.array([0,1,0])\n",
       ">>> np.inner(a, b)\n",
       "2\n",
       "\n",
       "A multidimensional example:\n",
       "\n",
       ">>> a = np.arange(24).reshape((2,3,4))\n",
       ">>> b = np.arange(4)\n",
       ">>> np.inner(a, b)\n",
       "array([[ 14,  38,  62],\n",
       "       [ 86, 110, 134]])\n",
       "\n",
       "An example where `b` is a scalar:\n",
       "\n",
       ">>> np.inner(np.eye(2), 7)\n",
       "array([[7., 0.],\n",
       "       [0., 7.]])\n",
       "\u001b[1;31mType:\u001b[0m      function\n"
      ]
     },
     "metadata": {},
     "output_type": "display_data"
    }
   ],
   "source": [
    "import numpy as np\n",
    "\n",
    "na = np.array([1,2,3])\n",
    "nb = np.array([3,2,1])\n",
    "print(na*nb, sum(na*nb), np.inner(na,nb), np.dot(na,nb), \\\n",
    "      np.cross(na,nb), 2*na, np.multiply(2,nb))\n",
    "np.inner?"
   ]
  },
  {
   "cell_type": "code",
   "execution_count": null,
   "metadata": {},
   "outputs": [],
   "source": []
  }
 ],
 "metadata": {
  "kernelspec": {
   "display_name": "Python 3",
   "language": "python",
   "name": "python3"
  },
  "language_info": {
   "codemirror_mode": {
    "name": "ipython",
    "version": 3
   },
   "file_extension": ".py",
   "mimetype": "text/x-python",
   "name": "python",
   "nbconvert_exporter": "python",
   "pygments_lexer": "ipython3",
   "version": "3.8.5"
  }
 },
 "nbformat": 4,
 "nbformat_minor": 4
}
