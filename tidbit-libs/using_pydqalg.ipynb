{
 "cells": [
  {
   "cell_type": "code",
   "execution_count": 1,
   "metadata": {
    "execution": {
     "iopub.execute_input": "2021-08-12T09:59:18.598436Z",
     "iopub.status.busy": "2021-08-12T09:59:18.598436Z",
     "iopub.status.idle": "2021-08-12T09:59:18.651474Z",
     "shell.execute_reply": "2021-08-12T09:59:18.649472Z",
     "shell.execute_reply.started": "2021-08-12T09:59:18.598436Z"
    }
   },
   "outputs": [
    {
     "ename": "IndentationError",
     "evalue": "expected an indented block (pydqalg.py, line 261)",
     "output_type": "error",
     "traceback": [
      "Traceback \u001b[1;36m(most recent call last)\u001b[0m:\n",
      "  File \u001b[0;32m\"C:\\Users\\alakshendra.veer\\anaconda3\\lib\\site-packages\\IPython\\core\\interactiveshell.py\"\u001b[0m, line \u001b[0;32m3418\u001b[0m, in \u001b[0;35mrun_code\u001b[0m\n    exec(code_obj, self.user_global_ns, self.user_ns)\n",
      "\u001b[1;36m  File \u001b[1;32m\"<ipython-input-1-333211a5f912>\"\u001b[1;36m, line \u001b[1;32m1\u001b[1;36m, in \u001b[1;35m<module>\u001b[1;36m\u001b[0m\n\u001b[1;33m    import pydqalg as dq\u001b[0m\n",
      "\u001b[1;36m  File \u001b[1;32m\"G:\\MOHSIN work\\reports n ppts\\tidbit-notes\\tidbit-libs\\pydqalg.py\"\u001b[1;36m, line \u001b[1;32m261\u001b[0m\n\u001b[1;33m    def make_cov_mat(self, file):\u001b[0m\n\u001b[1;37m    ^\u001b[0m\n\u001b[1;31mIndentationError\u001b[0m\u001b[1;31m:\u001b[0m expected an indented block\n"
     ]
    }
   ],
   "source": [
    "import pydqalg as dq\n",
    "\n",
    "\n",
    "qa = dq.Quat(.5, [ .5,-.5, .5])\n",
    "qb = dq.Quat(.5, [-.5, .5, .5])\n",
    "qc = dq.Quat(.7071, [0,0,.7071])\n",
    "qd = dq.Quat(.866025, [0,0,.5])\n",
    "print(\"qc.mulML\", qc.mulML())\n",
    "print(\"conj(a)\", qa.conj())\n",
    "print(\"2qb\", 2*qb)\n",
    "print(\"qa+qb\", qa+qb)\n",
    "print(\"norm(qa+qb)\", (qa+qb).norm())\n",
    "print(\"inv(qa+qb)\", (qa+qb).inv())\n",
    "print(\"(qa+qb)*(qa+qb).inv()\", (qa+qb)*(qa+qb).inv())\n",
    "print(\"qa-qb\", qa-qb)\n",
    "print(\"\\n(qa*qb).q2axisangle()\", (qa*qb).q2axisangle())\n",
    "print(\"(qa*qb).q2rotmat()\", (qa*qb).q2rotmat())\n",
    "print(\"(qa*qb).q2YPR()\", (qa*qb).q2YPR())\n",
    "print(\"\\n(qb*qa).q2axisangle()\", (qb*qa).q2axisangle())\n",
    "print(\"(qb*qa).q2rotmat()\", (qb*qa).q2rotmat())\n",
    "print(\"(qb*qa).q2YPR()\", (qb*qa).q2YPR())\n",
    "print(\"\\n(qc*qd).q2axisangle()\", (qc*qd).q2axisangle())\n",
    "print(\"(qc*qd).q2rotmat()\", (qc*qd).q2rotmat())\n",
    "print(\"(qc*qd).q2YPR()\", (qc*qd).q2YPR())\n",
    "\n"
   ]
  },
  {
   "cell_type": "code",
   "execution_count": 2,
   "metadata": {
    "execution": {
     "iopub.execute_input": "2021-08-10T17:36:32.361337Z",
     "iopub.status.busy": "2021-08-10T17:36:32.360336Z",
     "iopub.status.idle": "2021-08-10T17:36:33.143175Z",
     "shell.execute_reply": "2021-08-10T17:36:33.143175Z",
     "shell.execute_reply.started": "2021-08-10T17:36:32.360336Z"
    }
   },
   "outputs": [
    {
     "data": {
      "image/png": "[encoded data removed]",
      "text/latex": [
       "$\\displaystyle 150.00002313515228$"
      ],
      "text/plain": [
       "150.00002313515228"
      ]
     },
     "execution_count": 2,
     "metadata": {},
     "output_type": "execute_result"
    }
   ],
   "source": []
  },
  {
   "cell_type": "code",
   "execution_count": 42,
   "metadata": {
    "execution": {
     "iopub.execute_input": "2021-08-11T18:14:28.575841Z",
     "iopub.status.busy": "2021-08-11T18:14:28.575841Z",
     "iopub.status.idle": "2021-08-11T18:14:28.602861Z",
     "shell.execute_reply": "2021-08-11T18:14:28.602861Z",
     "shell.execute_reply.started": "2021-08-11T18:14:28.575841Z"
    }
   },
   "outputs": [
    {
     "name": "stdout",
     "output_type": "stream",
     "text": [
      "120.00000000000001\n",
      "0.8660254037844386 0.7499993006250001\n",
      "[ 4 10 18] 32 32 32 [-3  6 -3] [2 4 6] [ 8 10 12]\n",
      "(1, 3) [[4]\n",
      " [5]\n",
      " [6]] [[4 5 6]] [7 8 9] [[ 7  8  9]\n",
      " [10 11 12]\n",
      " [13 14 15]]\n",
      "[ 0 -1 -2 -3]\n",
      "[[ 4  7  8  9]\n",
      " [ 5 10 11 12]\n",
      " [ 6 13 14 15]]\n",
      "[[ 0 -1 -2 -3]\n",
      " [ 4  7  8  9]\n",
      " [ 5 10 11 12]\n",
      " [ 6 13 14 15]]\n",
      "[0 1 2 3 4 5 6]\n",
      "[4 5 6] [4, 5, 6] [[1. 0. 0.]\n",
      " [0. 1. 0.]\n",
      " [0. 0. 1.]]\n",
      "[[4. 0. 0. 0. 0. 0. 0. 0. 0.]\n",
      " [0. 5. 0. 0. 0. 0. 0. 0. 0.]\n",
      " [0. 0. 6. 0. 0. 0. 0. 0. 0.]\n",
      " [0. 0. 0. 4. 0. 0. 0. 0. 0.]\n",
      " [0. 0. 0. 0. 5. 0. 0. 0. 0.]\n",
      " [0. 0. 0. 0. 0. 6. 0. 0. 0.]\n",
      " [0. 0. 0. 0. 0. 0. 4. 0. 0.]\n",
      " [0. 0. 0. 0. 0. 0. 0. 5. 0.]\n",
      " [0. 0. 0. 0. 0. 0. 0. 0. 6.]]\n",
      "3\n"
     ]
    }
   ],
   "source": [
    "import numpy as np\n",
    "\n",
    "print(dq.R2D(2.0943951023931957))\n",
    "print(0.75**0.5 , 0.866025**2)\n",
    "\n",
    "na=0\n",
    "nb = np.array([1,2,3])\n",
    "nc = np.array([4,5,6])\n",
    "nd = np.array([ [7,8,9], [10,11,12], [13,14,15] ])\n",
    "\n",
    "print(nb*nc, sum(nb*nc), np.inner(nb,nc), np.dot(nb,nc), \\\n",
    "      np.cross(nb,nc), 2*nb, np.multiply(2,nc))\n",
    "\n",
    "print( np.shape([[nc]][0]), nc.reshape(3,1), nc.reshape(3,1).T, nd[0], nd )\n",
    "\n",
    "Ra = np.hstack((na, -nb)); print(Ra)\n",
    "Rb = np.hstack((nc.reshape(3,1), nd)); print(Rb)\n",
    "RR = np.vstack((Ra, Rb)); print(RR)\n",
    "\n",
    "# np.inner?\n",
    "\n",
    "print(np.hstack((na, nb, nc)))\n",
    "print(nc, nc.tolist(), np.eye(3))\n",
    "a=np.eye(9); np.fill_diagonal(a,nc.tolist()); print(a)\n",
    "print(len(nc))\n"
   ]
  },
  {
   "cell_type": "code",
   "execution_count": 4,
   "metadata": {
    "execution": {
     "iopub.execute_input": "2021-08-10T17:36:33.161198Z",
     "iopub.status.busy": "2021-08-10T17:36:33.160187Z",
     "iopub.status.idle": "2021-08-10T17:36:33.283283Z",
     "shell.execute_reply": "2021-08-10T17:36:33.283283Z",
     "shell.execute_reply.started": "2021-08-10T17:36:33.160187Z"
    }
   },
   "outputs": [
    {
     "name": "stdout",
     "output_type": "stream",
     "text": [
      "1\n",
      "0\n",
      "1\n"
     ]
    }
   ],
   "source": [
    "def fun1(n):\n",
    "    return n if n>0 else -n\n",
    "\n",
    "print(fun1(1))\n",
    "print(fun1(0))\n",
    "print(fun1(1))\n",
    "\n"
   ]
  },
  {
   "cell_type": "code",
   "execution_count": 8,
   "metadata": {
    "execution": {
     "iopub.execute_input": "2021-08-11T09:46:43.400623Z",
     "iopub.status.busy": "2021-08-11T09:46:43.400623Z",
     "iopub.status.idle": "2021-08-11T09:46:43.407629Z",
     "shell.execute_reply": "2021-08-11T09:46:43.407629Z",
     "shell.execute_reply.started": "2021-08-11T09:46:43.400623Z"
    }
   },
   "outputs": [
    {
     "name": "stdout",
     "output_type": "stream",
     "text": [
      "DualQuat(Quat(1.000000, [0.000000, 0.000000, 1.000000])\n",
      "         + ε Quat(1.573125, [0.000000, 0.000000, 1.207100]))\n",
      "DualQuat(Quat(0.000000, [1.000000, -1.000000, 0.000000])\n",
      "         + ε Quat(-0.158925, [0.000000, 0.000000, 0.207100]))\n",
      "DualQuat(Quat(0.500000, [0.500000, -0.500000, 0.500000])\n",
      "         + ε Quat(1.000000, [2.000000, 3.000000, 0.000000]))\n",
      "DualQuat(Quat(0.500000, [0.500000, -0.500000, 0.500000])\n",
      "         + ε Quat(1.000000, [-3.000000, 0.000000, 2.000000]))\n"
     ]
    }
   ],
   "source": [
    "dqa = dq.DualQuat(qa, qc)\n",
    "dqb = dq.DualQuat(qb, qd)\n",
    "dqc = dq.DualQuat(dq.Quat(1, [0,0,0]), dq.Quat(0, [-1,3,2]))\n",
    "dqd = dq.DualQuat(qa, dq.Quat(0, [0,0,0]))\n",
    "\n",
    "print(dqa+dqb)\n",
    "print(dqa-dqb)\n",
    "print(dqc*dqd)\n",
    "print(dqd*dqc)"
   ]
  },
  {
   "cell_type": "code",
   "execution_count": null,
   "metadata": {},
   "outputs": [],
   "source": [
    "\n",
    "\n"
   ]
  },
  {
   "cell_type": "code",
   "execution_count": null,
   "metadata": {},
   "outputs": [],
   "source": []
  }
 ],
 "metadata": {
  "kernelspec": {
   "display_name": "Python 3",
   "language": "python",
   "name": "python3"
  },
  "language_info": {
   "codemirror_mode": {
    "name": "ipython",
    "version": 3
   },
   "file_extension": ".py",
   "mimetype": "text/x-python",
   "name": "python",
   "nbconvert_exporter": "python",
   "pygments_lexer": "ipython3",
   "version": "3.8.5"
  }
 },
 "nbformat": 4,
 "nbformat_minor": 4
}
