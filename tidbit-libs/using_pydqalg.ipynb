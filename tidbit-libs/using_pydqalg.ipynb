{
 "cells": [
  {
   "cell_type": "code",
   "execution_count": 1,
   "metadata": {
    "execution": {
     "iopub.execute_input": "2021-08-10T17:36:31.553768Z",
     "iopub.status.busy": "2021-08-10T17:36:31.552766Z",
     "iopub.status.idle": "2021-08-10T17:36:32.359335Z",
     "shell.execute_reply": "2021-08-10T17:36:32.359335Z",
     "shell.execute_reply.started": "2021-08-10T17:36:31.553768Z"
    }
   },
   "outputs": [
    {
     "name": "stdout",
     "output_type": "stream",
     "text": [
      "qc.mulML [[ 0.7071 -0.     -0.     -0.7071]\n",
      " [ 0.      0.7071 -0.7071  0.    ]\n",
      " [ 0.      0.7071  0.7071  0.    ]\n",
      " [ 0.7071  0.      0.      0.7071]]\n",
      "conj(a) Quat(0.500000, [-0.500000, 0.500000, -0.500000])\n",
      "2qb Quat(1.000000, [-1.000000, 1.000000, 1.000000])\n",
      "qa+qb Quat(1.000000, [0.000000, 0.000000, 1.000000])\n",
      "norm(qa+qb) 1.4142135623730951\n",
      "inv(qa+qb) Quat(0.500000, [-0.000000, -0.000000, -0.500000])\n",
      "(qa+qb)*(qa+qb).inv() Quat(1.000000, [0.000000, 0.000000, 0.000000])\n",
      "qa-qb Quat(0.000000, [1.000000, -1.000000, 0.000000])\n",
      "\n",
      "(qa*qb).q2axisangle() (array([-0.57735027, -0.57735027,  0.57735027]), 2.0943951023931957)\n",
      "(qa*qb).q2rotmat() [[ 0.  0. -1.]\n",
      " [ 1.  0.  0.]\n",
      " [ 0. -1.  0.]]\n",
      "(qa*qb).q2YPR() (-1.5707963267948966, -0.0, 1.5707963267948966)\n",
      "\n",
      "(qb*qa).q2axisangle() (array([0.57735027, 0.57735027, 0.57735027]), 2.0943951023931957)\n",
      "(qb*qa).q2rotmat() [[0. 0. 1.]\n",
      " [1. 0. 0.]\n",
      " [0. 1. 0.]]\n",
      "(qb*qa).q2YPR() (1.5707963267948966, -0.0, 1.5707963267948966)\n",
      "\n",
      "(qc*qd).q2axisangle() (array([0., 0., 1.]), 2.617994281776074)\n",
      "(qc*qd).q2rotmat() [[-0.86602561 -0.49999965  0.        ]\n",
      " [ 0.49999965 -0.86602561  0.        ]\n",
      " [ 0.          0.          1.        ]]\n",
      "(qc*qd).q2YPR() (0.0, -0.0, 2.6179942817760744)\n"
     ]
    }
   ],
   "source": [
    "import pydqalg as dq\n",
    "\n",
    "\n",
    "qa = dq.Quat(.5, [ .5,-.5, .5])\n",
    "qb = dq.Quat(.5, [-.5, .5, .5])\n",
    "qc = dq.Quat(.7071, [0,0,.7071])\n",
    "qd = dq.Quat(.866025, [0,0,.5])\n",
    "print(\"qc.mulML\", qc.mulML())\n",
    "print(\"conj(a)\", qa.conj())\n",
    "print(\"2qb\", 2*qb)\n",
    "print(\"qa+qb\", qa+qb)\n",
    "print(\"norm(qa+qb)\", (qa+qb).norm())\n",
    "print(\"inv(qa+qb)\", (qa+qb).inv())\n",
    "print(\"(qa+qb)*(qa+qb).inv()\", (qa+qb)*(qa+qb).inv())\n",
    "print(\"qa-qb\", qa-qb)\n",
    "print(\"\\n(qa*qb).q2axisangle()\", (qa*qb).q2axisangle())\n",
    "print(\"(qa*qb).q2rotmat()\", (qa*qb).q2rotmat())\n",
    "print(\"(qa*qb).q2YPR()\", (qa*qb).q2YPR())\n",
    "print(\"\\n(qb*qa).q2axisangle()\", (qb*qa).q2axisangle())\n",
    "print(\"(qb*qa).q2rotmat()\", (qb*qa).q2rotmat())\n",
    "print(\"(qb*qa).q2YPR()\", (qb*qa).q2YPR())\n",
    "print(\"\\n(qc*qd).q2axisangle()\", (qc*qd).q2axisangle())\n",
    "print(\"(qc*qd).q2rotmat()\", (qc*qd).q2rotmat())\n",
    "print(\"(qc*qd).q2YPR()\", (qc*qd).q2YPR())\n",
    "\n"
   ]
  },
  {
   "cell_type": "code",
   "execution_count": 2,
   "metadata": {
    "execution": {
     "iopub.execute_input": "2021-08-10T17:36:32.361337Z",
     "iopub.status.busy": "2021-08-10T17:36:32.360336Z",
     "iopub.status.idle": "2021-08-10T17:36:33.143175Z",
     "shell.execute_reply": "2021-08-10T17:36:33.143175Z",
     "shell.execute_reply.started": "2021-08-10T17:36:32.360336Z"
    }
   },
   "outputs": [
    {
     "data": {
      "image/png": "[encoded data removed]",
      "text/latex": [
       "$\\displaystyle 150.00002313515228$"
      ],
      "text/plain": [
       "150.00002313515228"
      ]
     },
     "execution_count": 2,
     "metadata": {},
     "output_type": "execute_result"
    }
   ],
   "source": [
    "import numpy as np\n",
    "dq.R2D(2.6179942817760744)\n"
   ]
  },
  {
   "cell_type": "code",
   "execution_count": 3,
   "metadata": {
    "execution": {
     "iopub.execute_input": "2021-08-10T17:36:33.145177Z",
     "iopub.status.busy": "2021-08-10T17:36:33.145177Z",
     "iopub.status.idle": "2021-08-10T17:36:33.159187Z",
     "shell.execute_reply": "2021-08-10T17:36:33.159187Z",
     "shell.execute_reply.started": "2021-08-10T17:36:33.145177Z"
    }
   },
   "outputs": [
    {
     "name": "stdout",
     "output_type": "stream",
     "text": [
      "120.00000000000001\n",
      "0.8660254037844386 0.7499993006250001\n",
      "[ 4 10 18] 32 32 32 [-3  6 -3] [2 4 6] [ 8 10 12]\n",
      "(1, 3) [[4]\n",
      " [5]\n",
      " [6]] [[4 5 6]] [7 8 9] [[ 7  8  9]\n",
      " [10 11 12]\n",
      " [13 14 15]]\n",
      "[ 0 -1 -2 -3]\n",
      "[[ 4  7  8  9]\n",
      " [ 5 10 11 12]\n",
      " [ 6 13 14 15]]\n",
      "[[ 0 -1 -2 -3]\n",
      " [ 4  7  8  9]\n",
      " [ 5 10 11 12]\n",
      " [ 6 13 14 15]]\n"
     ]
    },
    {
     "data": {
      "text/plain": [
       "\u001b[1;31mDocstring:\u001b[0m\n",
       "inner(a, b)\n",
       "\n",
       "Inner product of two arrays.\n",
       "\n",
       "Ordinary inner product of vectors for 1-D arrays (without complex\n",
       "conjugation), in higher dimensions a sum product over the last axes.\n",
       "\n",
       "Parameters\n",
       "----------\n",
       "a, b : array_like\n",
       "    If `a` and `b` are nonscalar, their last dimensions must match.\n",
       "\n",
       "Returns\n",
       "-------\n",
       "out : ndarray\n",
       "    `out.shape = a.shape[:-1] + b.shape[:-1]`\n",
       "\n",
       "Raises\n",
       "------\n",
       "ValueError\n",
       "    If the last dimension of `a` and `b` has different size.\n",
       "\n",
       "See Also\n",
       "--------\n",
       "tensordot : Sum products over arbitrary axes.\n",
       "dot : Generalised matrix product, using second last dimension of `b`.\n",
       "einsum : Einstein summation convention.\n",
       "\n",
       "Notes\n",
       "-----\n",
       "For vectors (1-D arrays) it computes the ordinary inner-product::\n",
       "\n",
       "    np.inner(a, b) = sum(a[:]*b[:])\n",
       "\n",
       "More generally, if `ndim(a) = r > 0` and `ndim(b) = s > 0`::\n",
       "\n",
       "    np.inner(a, b) = np.tensordot(a, b, axes=(-1,-1))\n",
       "\n",
       "or explicitly::\n",
       "\n",
       "    np.inner(a, b)[i0,...,ir-1,j0,...,js-1]\n",
       "         = sum(a[i0,...,ir-1,:]*b[j0,...,js-1,:])\n",
       "\n",
       "In addition `a` or `b` may be scalars, in which case::\n",
       "\n",
       "   np.inner(a,b) = a*b\n",
       "\n",
       "Examples\n",
       "--------\n",
       "Ordinary inner product for vectors:\n",
       "\n",
       ">>> a = np.array([1,2,3])\n",
       ">>> b = np.array([0,1,0])\n",
       ">>> np.inner(a, b)\n",
       "2\n",
       "\n",
       "A multidimensional example:\n",
       "\n",
       ">>> a = np.arange(24).reshape((2,3,4))\n",
       ">>> b = np.arange(4)\n",
       ">>> np.inner(a, b)\n",
       "array([[ 14,  38,  62],\n",
       "       [ 86, 110, 134]])\n",
       "\n",
       "An example where `b` is a scalar:\n",
       "\n",
       ">>> np.inner(np.eye(2), 7)\n",
       "array([[7., 0.],\n",
       "       [0., 7.]])\n",
       "\u001b[1;31mType:\u001b[0m      function\n"
      ]
     },
     "metadata": {},
     "output_type": "display_data"
    }
   ],
   "source": [
    "import numpy as np\n",
    "\n",
    "print(dq.R2D(2.0943951023931957))\n",
    "print(0.75**0.5 , 0.866025**2)\n",
    "\n",
    "na=0\n",
    "nb = np.array([1,2,3])\n",
    "nc = np.array([4,5,6])\n",
    "nd = np.array([ [7,8,9], [10,11,12], [13,14,15] ])\n",
    "\n",
    "print(nb*nc, sum(nb*nc), np.inner(nb,nc), np.dot(nb,nc), \\\n",
    "      np.cross(nb,nc), 2*nb, np.multiply(2,nc))\n",
    "\n",
    "print( np.shape([[nc]][0]), nc.reshape(3,1), nc.reshape(3,1).T, nd[0], nd )\n",
    "\n",
    "Ra = np.hstack((na, -nb)); print(Ra)\n",
    "Rb = np.hstack((nc.reshape(3,1), nd)); print(Rb)\n",
    "RR = np.vstack((Ra, Rb)); print(RR)\n",
    "\n",
    "# np.inner?"
   ]
  },
  {
   "cell_type": "code",
   "execution_count": 4,
   "metadata": {
    "execution": {
     "iopub.execute_input": "2021-08-10T17:36:33.161198Z",
     "iopub.status.busy": "2021-08-10T17:36:33.160187Z",
     "iopub.status.idle": "2021-08-10T17:36:33.283283Z",
     "shell.execute_reply": "2021-08-10T17:36:33.283283Z",
     "shell.execute_reply.started": "2021-08-10T17:36:33.160187Z"
    }
   },
   "outputs": [
    {
     "name": "stdout",
     "output_type": "stream",
     "text": [
      "1\n",
      "0\n",
      "1\n"
     ]
    }
   ],
   "source": [
    "def fun1(n):\n",
    "    return n if n>0 else -n\n",
    "\n",
    "print(fun1(1))\n",
    "print(fun1(0))\n",
    "print(fun1(-1))\n",
    "\n"
   ]
  },
  {
   "cell_type": "code",
   "execution_count": 7,
   "metadata": {
    "execution": {
     "iopub.execute_input": "2021-08-10T17:37:42.962958Z",
     "iopub.status.busy": "2021-08-10T17:37:42.961945Z",
     "iopub.status.idle": "2021-08-10T17:37:42.966949Z",
     "shell.execute_reply": "2021-08-10T17:37:42.966949Z",
     "shell.execute_reply.started": "2021-08-10T17:37:42.961945Z"
    }
   },
   "outputs": [
    {
     "name": "stdout",
     "output_type": "stream",
     "text": [
      "DualQuat(Quat(1.000000, [0.000000, 0.000000, 1.000000])\n",
      "         + ε Quat(1.573125, [0.000000, 0.000000, 1.207100]))\n",
      "DualQuat(Quat(0.000000, [1.000000, -1.000000, 0.000000])\n",
      "         + ε Quat(-0.158925, [0.000000, 0.000000, 0.207100]))\n",
      "DualQuat(Quat(-0.500000, [0.500000, -0.500000, 0.500000])\n",
      "         + ε Quat(-2.000000, [3.000000, 1.000000, 0.000000]))\n"
     ]
    }
   ],
   "source": [
    "dqa = dq.DualQuat(qa, qc)\n",
    "dqb = dq.DualQuat(qb, qd)\n",
    "dqc = dq.DualQuat(qa, dq.Quat(0, [-1,3,2]))\n",
    "dqd = dq.DualQuat(qa, dq.Quat(0, [1,-3,2]))\n",
    "\n",
    "print(dqa+dqb)\n",
    "print(dqa-dqb)\n",
    "print(dqc*dqd)"
   ]
  },
  {
   "cell_type": "code",
   "execution_count": null,
   "metadata": {},
   "outputs": [],
   "source": [
    "\n",
    "\n"
   ]
  },
  {
   "cell_type": "code",
   "execution_count": null,
   "metadata": {},
   "outputs": [],
   "source": []
  }
 ],
 "metadata": {
  "kernelspec": {
   "display_name": "Python 3",
   "language": "python",
   "name": "python3"
  },
  "language_info": {
   "codemirror_mode": {
    "name": "ipython",
    "version": 3
   },
   "file_extension": ".py",
   "mimetype": "text/x-python",
   "name": "python",
   "nbconvert_exporter": "python",
   "pygments_lexer": "ipython3",
   "version": "3.8.5"
  }
 },
 "nbformat": 4,
 "nbformat_minor": 4
}
