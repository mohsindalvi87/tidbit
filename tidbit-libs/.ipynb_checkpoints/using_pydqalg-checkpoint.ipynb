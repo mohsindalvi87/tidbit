{
 "cells": [
  {
   "cell_type": "code",
   "execution_count": 1,
   "metadata": {
    "execution": {
     "iopub.execute_input": "2021-08-12T09:59:18.598436Z",
     "iopub.status.busy": "2021-08-12T09:59:18.598436Z",
     "iopub.status.idle": "2021-08-12T09:59:18.651474Z",
     "shell.execute_reply": "2021-08-12T09:59:18.649472Z",
     "shell.execute_reply.started": "2021-08-12T09:59:18.598436Z"
    }
   },
   "outputs": [
    {
     "ename": "IndentationError",
     "evalue": "expected an indented block (pydqalg.py, line 261)",
     "output_type": "error",
     "traceback": [
      "Traceback \u001b[1;36m(most recent call last)\u001b[0m:\n",
      "  File \u001b[0;32m\"C:\\Users\\alakshendra.veer\\anaconda3\\lib\\site-packages\\IPython\\core\\interactiveshell.py\"\u001b[0m, line \u001b[0;32m3418\u001b[0m, in \u001b[0;35mrun_code\u001b[0m\n    exec(code_obj, self.user_global_ns, self.user_ns)\n",
      "\u001b[1;36m  File \u001b[1;32m\"<ipython-input-1-333211a5f912>\"\u001b[1;36m, line \u001b[1;32m1\u001b[1;36m, in \u001b[1;35m<module>\u001b[1;36m\u001b[0m\n\u001b[1;33m    import pydqalg as dq\u001b[0m\n",
      "\u001b[1;36m  File \u001b[1;32m\"G:\\MOHSIN work\\reports n ppts\\tidbit-notes\\tidbit-libs\\pydqalg.py\"\u001b[1;36m, line \u001b[1;32m261\u001b[0m\n\u001b[1;33m    def make_cov_mat(self, file):\u001b[0m\n\u001b[1;37m    ^\u001b[0m\n\u001b[1;31mIndentationError\u001b[0m\u001b[1;31m:\u001b[0m expected an indented block\n"
     ]
    }
   ],
   "source": [
    "import pydqalg as dq\n",
    "\n",
    "\n",
    "qa = dq.Quat(.5, [ .5,-.5, .5])\n",
    "qb = dq.Quat(.5, [-.5, .5, .5])\n",
    "qc = dq.Quat(.7071, [0,0,.7071])\n",
    "qd = dq.Quat(.866025, [0,0,.5])\n",
    "print(\"qc.mulML\", qc.mulML())\n",
    "print(\"conj(a)\", qa.conj())\n",
    "print(\"2qb\", 2*qb)\n",
    "print(\"qa+qb\", qa+qb)\n",
    "print(\"norm(qa+qb)\", (qa+qb).norm())\n",
    "print(\"inv(qa+qb)\", (qa+qb).inv())\n",
    "print(\"(qa+qb)*(qa+qb).inv()\", (qa+qb)*(qa+qb).inv())\n",
    "print(\"qa-qb\", qa-qb)\n",
    "print(\"\\n(qa*qb).q2axisangle()\", (qa*qb).q2axisangle())\n",
    "print(\"(qa*qb).q2rotmat()\", (qa*qb).q2rotmat())\n",
    "print(\"(qa*qb).q2YPR()\", (qa*qb).q2YPR())\n",
    "print(\"\\n(qb*qa).q2axisangle()\", (qb*qa).q2axisangle())\n",
    "print(\"(qb*qa).q2rotmat()\", (qb*qa).q2rotmat())\n",
    "print(\"(qb*qa).q2YPR()\", (qb*qa).q2YPR())\n",
    "print(\"\\n(qc*qd).q2axisangle()\", (qc*qd).q2axisangle())\n",
    "print(\"(qc*qd).q2rotmat()\", (qc*qd).q2rotmat())\n",
    "print(\"(qc*qd).q2YPR()\", (qc*qd).q2YPR())\n",
    "\n"
   ]
  },
  {
   "cell_type": "code",
   "execution_count": 2,
   "metadata": {
    "execution": {
     "iopub.execute_input": "2021-08-10T17:36:32.361337Z",
     "iopub.status.busy": "2021-08-10T17:36:32.360336Z",
     "iopub.status.idle": "2021-08-10T17:36:33.143175Z",
     "shell.execute_reply": "2021-08-10T17:36:33.143175Z",
     "shell.execute_reply.started": "2021-08-10T17:36:32.360336Z"
    }
   },
   "outputs": [
    {
     "data": {
      "image/png": "[encoded data removed]",
      "text/latex": [
       "$\\displaystyle 150.00002313515228$"
      ],
      "text/plain": [
       "150.00002313515228"
      ]
     },
     "execution_count": 2,
     "metadata": {},
     "output_type": "execute_result"
    }
   ],
   "source": []
  },
  {
   "cell_type": "code",
   "execution_count": 42,
   "metadata": {
    "execution": {
     "iopub.execute_input": "2021-08-11T18:14:28.575841Z",
     "iopub.status.busy": "2021-08-11T18:14:28.575841Z",
     "iopub.status.idle": "2021-08-11T18:14:28.602861Z",
     "shell.execute_reply": "2021-08-11T18:14:28.602861Z",
     "shell.execute_reply.started": "2021-08-11T18:14:28.575841Z"
    }
   },
   "outputs": [
    {
     "name": "stdout",
     "output_type": "stream",
     "text": [
      "120.00000000000001\n",
      "0.8660254037844386 0.7499993006250001\n",
      "[ 4 10 18] 32 32 32 [-3  6 -3] [2 4 6] [ 8 10 12]\n",
      "(1, 3) [[4]\n",
      " [5]\n",
      " [6]] [[4 5 6]] [7 8 9] [[ 7  8  9]\n",
      " [10 11 12]\n",
      " [13 14 15]]\n",
      "[ 0 -1 -2 -3]\n",
      "[[ 4  7  8  9]\n",
      " [ 5 10 11 12]\n",
      " [ 6 13 14 15]]\n",
      "[[ 0 -1 -2 -3]\n",
      " [ 4  7  8  9]\n",
      " [ 5 10 11 12]\n",
      " [ 6 13 14 15]]\n",
      "[0 1 2 3 4 5 6]\n",
      "[4 5 6] [4, 5, 6] [[1. 0. 0.]\n",
      " [0. 1. 0.]\n",
      " [0. 0. 1.]]\n",
      "[[4. 0. 0. 0. 0. 0. 0. 0. 0.]\n",
      " [0. 5. 0. 0. 0. 0. 0. 0. 0.]\n",
      " [0. 0. 6. 0. 0. 0. 0. 0. 0.]\n",
      " [0. 0. 0. 4. 0. 0. 0. 0. 0.]\n",
      " [0. 0. 0. 0. 5. 0. 0. 0. 0.]\n",
      " [0. 0. 0. 0. 0. 6. 0. 0. 0.]\n",
      " [0. 0. 0. 0. 0. 0. 4. 0. 0.]\n",
      " [0. 0. 0. 0. 0. 0. 0. 5. 0.]\n",
      " [0. 0. 0. 0. 0. 0. 0. 0. 6.]]\n",
      "3\n"
     ]
    }
   ],
   "source": [
    "import numpy as np\n",
    "\n",
    "print(dq.R2D(2.0943951023931957))\n",
    "print(0.75**0.5 , 0.866025**2)\n",
    "\n",
    "na=0\n",
    "nb = np.array([1,2,3])\n",
    "nc = np.array([4,5,6])\n",
    "nd = np.array([ [7,8,9], [10,11,12], [13,14,15] ])\n",
    "\n",
    "print(nb*nc, sum(nb*nc), np.inner(nb,nc), np.dot(nb,nc), \\\n",
    "      np.cross(nb,nc), 2*nb, np.multiply(2,nc))\n",
    "\n",
    "print( np.shape([[nc]][0]), nc.reshape(3,1), nc.reshape(3,1).T, nd[0], nd )\n",
    "\n",
    "Ra = np.hstack((na, -nb)); print(Ra)\n",
    "Rb = np.hstack((nc.reshape(3,1), nd)); print(Rb)\n",
    "RR = np.vstack((Ra, Rb)); print(RR)\n",
    "\n",
    "# np.inner?\n",
    "\n",
    "print(np.hstack((na, nb, nc)))\n",
    "print(nc, nc.tolist(), np.eye(3))\n",
    "a=np.eye(9); np.fill_diagonal(a,nc.tolist()); print(a)\n",
    "print(len(nc))\n"
   ]
  },
  {
   "cell_type": "code",
   "execution_count": 4,
   "metadata": {
    "execution": {
     "iopub.execute_input": "2021-08-10T17:36:33.161198Z",
     "iopub.status.busy": "2021-08-10T17:36:33.160187Z",
     "iopub.status.idle": "2021-08-10T17:36:33.283283Z",
     "shell.execute_reply": "2021-08-10T17:36:33.283283Z",
     "shell.execute_reply.started": "2021-08-10T17:36:33.160187Z"
    }
   },
   "outputs": [
    {
     "name": "stdout",
     "output_type": "stream",
     "text": [
      "1\n",
      "0\n",
      "1\n"
     ]
    }
   ],
   "source": [
    "def fun1(n):\n",
    "    return n if n>0 else -n\n",
    "\n",
    "print(fun1(1))\n",
    "print(fun1(0))\n",
    "print(fun1(1))\n",
    "\n"
   ]
  },
  {
   "cell_type": "code",
   "execution_count": 8,
   "metadata": {
    "execution": {
     "iopub.execute_input": "2021-08-11T09:46:43.400623Z",
     "iopub.status.busy": "2021-08-11T09:46:43.400623Z",
     "iopub.status.idle": "2021-08-11T09:46:43.407629Z",
     "shell.execute_reply": "2021-08-11T09:46:43.407629Z",
     "shell.execute_reply.started": "2021-08-11T09:46:43.400623Z"
    }
   },
   "outputs": [
    {
     "name": "stdout",
     "output_type": "stream",
     "text": [
      "DualQuat(Quat(1.000000, [0.000000, 0.000000, 1.000000])\n",
      "         + ε Quat(1.573125, [0.000000, 0.000000, 1.207100]))\n",
      "DualQuat(Quat(0.000000, [1.000000, -1.000000, 0.000000])\n",
      "         + ε Quat(-0.158925, [0.000000, 0.000000, 0.207100]))\n",
      "DualQuat(Quat(0.500000, [0.500000, -0.500000, 0.500000])\n",
      "         + ε Quat(1.000000, [2.000000, 3.000000, 0.000000]))\n",
      "DualQuat(Quat(0.500000, [0.500000, -0.500000, 0.500000])\n",
      "         + ε Quat(1.000000, [-3.000000, 0.000000, 2.000000]))\n"
     ]
    }
   ],
   "source": [
    "dqa = dq.DualQuat(qa, qc)\n",
    "dqb = dq.DualQuat(qb, qd)\n",
    "dqc = dq.DualQuat(dq.Quat(1, [0,0,0]), dq.Quat(0, [-1,3,2]))\n",
    "dqd = dq.DualQuat(qa, dq.Quat(0, [0,0,0]))\n",
    "\n",
    "print(dqa+dqb)\n",
    "print(dqa-dqb)\n",
    "print(dqc*dqd)\n",
    "print(dqd*dqc)"
   ]
  },
  {
   "cell_type": "code",
   "execution_count": null,
   "metadata": {},
   "outputs": [],
   "source": [
    "\n",
    "\n"
   ]
  },
  {
   "cell_type": "code",
   "execution_count": null,
   "metadata": {},
   "outputs": [],
   "source": []
  },
  {
   "cell_type": "code",
   "execution_count": null,
   "metadata": {},
   "outputs": [],
   "source": []
  },
  {
   "cell_type": "code",
   "execution_count": null,
   "metadata": {},
   "outputs": [],
   "source": []
  },
  {
   "cell_type": "code",
   "execution_count": null,
   "metadata": {},
   "outputs": [],
   "source": []
  },
  {
   "cell_type": "code",
   "execution_count": null,
   "metadata": {},
   "outputs": [],
   "source": []
  },
  {
   "cell_type": "code",
   "execution_count": null,
   "metadata": {},
   "outputs": [],
   "source": []
  },
  {
   "cell_type": "code",
   "execution_count": null,
   "metadata": {},
   "outputs": [],
   "source": []
  },
  {
   "cell_type": "code",
   "execution_count": null,
   "metadata": {},
   "outputs": [],
   "source": []
  },
  {
   "cell_type": "code",
   "execution_count": null,
   "metadata": {},
   "outputs": [],
   "source": []
  },
  {
   "cell_type": "code",
   "execution_count": null,
   "metadata": {},
   "outputs": [],
   "source": []
  },
  {
   "cell_type": "code",
   "execution_count": null,
   "metadata": {},
   "outputs": [],
   "source": []
  },
  {
   "cell_type": "code",
   "execution_count": null,
   "metadata": {},
   "outputs": [],
   "source": []
  },
  {
   "cell_type": "code",
   "execution_count": null,
   "metadata": {},
   "outputs": [],
   "source": []
  },
  {
   "cell_type": "code",
   "execution_count": null,
   "metadata": {},
   "outputs": [],
   "source": []
  },
  {
   "cell_type": "code",
   "execution_count": null,
   "metadata": {},
   "outputs": [],
   "source": []
  },
  {
   "cell_type": "code",
   "execution_count": null,
   "metadata": {},
   "outputs": [],
   "source": []
  },
  {
   "cell_type": "code",
   "execution_count": null,
   "metadata": {},
   "outputs": [],
   "source": []
  },
  {
   "cell_type": "code",
   "execution_count": null,
   "metadata": {},
   "outputs": [],
   "source": []
  },
  {
   "cell_type": "code",
   "execution_count": null,
   "metadata": {},
   "outputs": [],
   "source": []
  },
  {
   "cell_type": "code",
   "execution_count": null,
   "metadata": {},
   "outputs": [],
   "source": []
  },
  {
   "cell_type": "code",
   "execution_count": null,
   "metadata": {},
   "outputs": [],
   "source": []
  },
  {
   "cell_type": "code",
   "execution_count": null,
   "metadata": {},
   "outputs": [],
   "source": []
  },
  {
   "cell_type": "code",
   "execution_count": 7,
   "metadata": {
    "execution": {
     "iopub.execute_input": "2021-09-04T12:47:32.358425Z",
     "iopub.status.busy": "2021-09-04T12:47:32.358425Z",
     "iopub.status.idle": "2021-09-04T12:47:34.688110Z",
     "shell.execute_reply": "2021-09-04T12:47:34.685106Z",
     "shell.execute_reply.started": "2021-09-04T12:47:32.358425Z"
    }
   },
   "outputs": [
    {
     "name": "stdout",
     "output_type": "stream",
     "text": [
      "<class 'numpy.ndarray'>\n"
     ]
    }
   ],
   "source": [
    "import numpy as np\n",
    "import cv2\n",
    "\n",
    "# cv2.merge([153*np.ones([10,10]),142*np.ones([10,10]),195*np.ones([10,10])])\n",
    "srgb = cv2.imread(\"./rainbow_test.jpg\")\n",
    "IM = np.ones([50,100], dtype=np.uint8)\n",
    "# srgb = np.copy(srgb[:50,:100])\n",
    "srgb=cv2.cvtColor( cv2.merge([153*IM,142*IM,195*IM]) , cv2.COLOR_BGR2RGB)\n",
    "print(type(srgb[0,0]))\n",
    "cv2.imshow(\"srgb\",srgb)\n",
    "cv2.waitKey(0)\n",
    "cv2.destroyAllWindows()\n"
   ]
  },
  {
   "cell_type": "code",
   "execution_count": 38,
   "metadata": {
    "execution": {
     "iopub.execute_input": "2021-09-04T13:18:56.311718Z",
     "iopub.status.busy": "2021-09-04T13:18:56.311718Z",
     "iopub.status.idle": "2021-09-04T13:18:59.866601Z",
     "shell.execute_reply": "2021-09-04T13:18:59.864601Z",
     "shell.execute_reply.started": "2021-09-04T13:18:56.311718Z"
    }
   },
   "outputs": [
    {
     "name": "stdout",
     "output_type": "stream",
     "text": [
      "[[[ 76.28872592  76.28872592  95.07770854]\n",
      "  [ 69.34736877  69.34736877  88.07517588]\n",
      "  [ 67.36589367  67.36589367  86.0743928 ]\n",
      "  ...\n",
      "  [ 58.87406653  58.87406653  62.05418462]\n",
      "  [ 51.30462154  51.30462154  57.04067968]\n",
      "  [ 46.31932713  46.31932713  52.04001987]]\n",
      "\n",
      " [[ 74.30457173  74.30457173  93.07701601]\n",
      "  [ 70.33842114  70.33842114  89.07555699]\n",
      "  [ 69.34736877  69.34736877  88.07517588]\n",
      "  ...\n",
      "  [ 52.16539583  52.16539583  54.04768079]\n",
      "  [ 54.43723913  54.43723913  58.03917858]\n",
      "  [ 45.59775804  45.59775804  52.03273649]]\n",
      "\n",
      " [[ 74.30457173  74.30457173  93.07701601]\n",
      "  [ 79.26618191  79.26618191  98.07870449]\n",
      "  [ 80.258974    80.258974    99.07902561]\n",
      "  ...\n",
      "  [ 50.44596596  50.44596596  53.03964698]\n",
      "  [ 44.74210836  44.74210836  48.03136335]\n",
      "  [ 45.74034828  45.74034828  49.03143762]]\n",
      "\n",
      " ...\n",
      "\n",
      " [[ 92.42484139  92.42484139  71.84636898]\n",
      "  [ 90.09251935  90.09251935  71.82945972]\n",
      "  [ 88.55198989  88.55198989  70.81557299]\n",
      "  ...\n",
      "  [103.89063278 103.89063278  71.76523931]\n",
      "  [ 97.26845446  97.26845446  64.78150964]\n",
      "  [ 93.29362643  93.29362643  60.77591009]]\n",
      "\n",
      " [[ 91.21654152  91.21654152  73.86035452]\n",
      "  [ 91.42967769  91.42967769  72.85070049]\n",
      "  [ 92.42484139  92.42484139  73.85124354]\n",
      "  ...\n",
      "  [102.2394535  102.2394535   69.78770764]\n",
      "  [ 96.0560555   96.0560555   63.78959301]\n",
      "  [100.03390216 100.03390216  67.79448783]]\n",
      "\n",
      " [[ 85.81527248  85.81527248  70.87663938]\n",
      "  [ 90.22106416  90.22106416  72.85986838]\n",
      "  [ 91.42967769  91.42967769  72.85070049]\n",
      "  ...\n",
      "  [103.01829241 103.01829241  70.79783613]\n",
      "  [100.03390216 100.03390216  67.79448783]\n",
      "  [103.01829241 103.01829241  70.79783613]]] (900, 1200) (900, 1200, 3)\n",
      "[[[ 72.59938094  72.59938094  95.47774613]\n",
      "  [ 65.70207167  65.70207167  88.46213567]\n",
      "  [ 63.73468493  63.73468493  86.45731042]\n",
      "  ...\n",
      "  [ 56.796321    56.796321    62.33312293]\n",
      "  [ 49.65515345  49.65515345  57.25022118]\n",
      "  [ 44.67978621  44.67978621  52.24613321]]\n",
      "\n",
      " [[ 70.62704617  70.62704617  93.47347688]\n",
      "  [ 66.68634914  66.68634914  89.46448426]\n",
      "  [ 65.70207167  65.70207167  88.46213567]\n",
      "  ...\n",
      "  [ 50.37602964  50.37602964  54.29315027]\n",
      "  [ 52.92344674  52.92344674  58.24101283]\n",
      "  [ 44.238138    44.238138    52.20141822]]\n",
      "\n",
      " [[ 70.62704617  70.62704617  93.47347688]\n",
      "  [ 75.56012715  75.56012715  98.48388688]\n",
      "  [ 76.54760296  76.54760296  99.48586701]\n",
      "  ...\n",
      "  [ 48.93792991  48.93792991  53.24385261]\n",
      "  [ 43.52605234  43.52605234  48.19296285]\n",
      "  [ 44.52314849  44.52314849  49.19342454]]\n",
      "\n",
      " ...\n",
      "\n",
      " [[ 96.3560164   96.3560164   71.04686399]\n",
      "  [ 94.57432326  94.57432326  70.94118893]\n",
      "  [ 93.40570241  93.40570241  69.85418015]\n",
      "  ...\n",
      "  [109.0679004  109.0679004   70.53842152]\n",
      "  [101.91446048 101.91446048  63.6395356 ]\n",
      "  [ 97.94994263  97.94994263  59.60350957]]\n",
      "\n",
      " [[ 94.96993875  94.96993875  73.13426812]\n",
      "  [ 95.36292289  95.36292289  72.0739772 ]\n",
      "  [ 96.3560164   96.3560164   73.07743276]\n",
      "  ...\n",
      "  [106.87340881 106.87340881  68.67930297]\n",
      "  [100.52283163 100.52283163  62.69020141]\n",
      "  [104.49140017 104.49140017  66.72158359]]\n",
      "\n",
      " [[ 89.21963195  89.21963195  70.23560752]\n",
      "  [ 93.97641699  93.97641699  72.13117803]\n",
      "  [ 95.36292289  95.36292289  72.0739772 ]\n",
      "  ...\n",
      "  [107.46918533 107.46918533  69.74301   ]\n",
      "  [104.49140017 104.49140017  66.72158359]\n",
      "  [107.46918533 107.46918533  69.74301   ]]] (900, 1200) (900, 1200, 3)\n",
      "[[[ 50.52751437  82.07497128  82.07497128]\n",
      "  [ 43.31736019  75.089601    75.089601  ]\n",
      "  [ 41.24645011  73.09421849  73.09421849]\n",
      "  ...\n",
      "  [ 46.82795386  61.1271278   61.1271278 ]\n",
      "  [ 41.31153225  53.52278047  53.52278047]\n",
      "  [ 36.29288862  48.52425876  48.52425876]]\n",
      "\n",
      " [[ 48.47275723  80.07892638  80.07892638]\n",
      "  [ 44.35079656  76.0873701   76.0873701 ]\n",
      "  [ 43.31736019  75.089601    75.089601  ]\n",
      "  ...\n",
      "  [ 42.          54.          54.        ]\n",
      "  [ 45.67628742  56.25660278  56.25660278]\n",
      "  [ 37.14763355  47.66201723  47.66201723]]\n",
      "\n",
      " [[ 48.47275723  80.07892638  80.07892638]\n",
      "  [ 53.60301001  85.06934151  85.06934151]\n",
      "  [ 54.62657441  86.06754079  86.06754079]\n",
      "  ...\n",
      "  [ 41.83763308  52.12726785  52.12726785]\n",
      "  [ 37.68003943  46.25733551  46.25733551]\n",
      "  [ 38.68131621  47.25725145  47.25725145]]\n",
      "\n",
      " ...\n",
      "\n",
      " [[112.35841543  86.17637741  86.17637741]\n",
      "  [112.08058108  83.49262477  83.49262477]\n",
      "  [111.97541262  81.60152131  81.60152131]\n",
      "  ...\n",
      "  [129.98308548  95.18769449  95.18769449]\n",
      "  [121.05107021  89.12643507  89.12643507]\n",
      "  [117.01233062  85.14716199  85.14716199]]\n",
      "\n",
      " [[110.13833942  85.49001123  85.49001123]\n",
      "  [111.20283954  85.38457752  85.38457752]\n",
      "  [112.20716235  86.38310669  86.38310669]\n",
      "  ...\n",
      "  [126.09666265  94.10260614  94.10260614]\n",
      "  [119.06302508  88.13147037  88.13147037]\n",
      "  [123.09997734  92.11187794  92.11187794]]\n",
      "\n",
      " [[102.98455618  80.71029523  80.71029523]\n",
      "  [109.13438006  84.49130494  84.49130494]\n",
      "  [111.20283954  85.38457752  85.38457752]\n",
      "  ...\n",
      "  [126.12642674  95.09809328  95.09809328]\n",
      "  [123.09997734  92.11187794  92.11187794]\n",
      "  [126.12642674  95.09809328  95.09809328]]] (900, 1200) (900, 1200, 3)\n",
      "[[[ 76.6173794   76.6173794   76.6173794 ]\n",
      "  [ 69.7051535   69.7051535   69.7051535 ]\n",
      "  [ 67.73286044  67.73286044  67.73286044]\n",
      "  ...\n",
      "  [ 58.40715196  58.40715196  58.40715196]\n",
      "  [ 51.18527411  51.18527411  51.18527411]\n",
      "  [ 46.20555896  46.20555896  46.20555896]]\n",
      "\n",
      " [[ 74.64110718  74.64110718  74.64110718]\n",
      "  [ 70.69176762  70.69176762  70.69176762]\n",
      "  [ 69.7051535   69.7051535   69.7051535 ]\n",
      "  ...\n",
      "  [ 51.69652492  51.69652492  51.69652492]\n",
      "  [ 54.19103868  54.19103868  54.19103868]\n",
      "  [ 45.63559476  45.63559476  45.63559476]]\n",
      "\n",
      " [[ 74.64110718  74.64110718  74.64110718]\n",
      "  [ 79.58360668  79.58360668  79.58360668]\n",
      "  [ 80.57280469  80.57280469  80.57280469]\n",
      "  ...\n",
      "  [ 50.12501063  50.12501063  50.12501063]\n",
      "  [ 44.57381157  44.57381157  44.57381157]\n",
      "  [ 45.57143768  45.57143768  45.57143768]]\n",
      "\n",
      " ...\n",
      "\n",
      " [[ 92.49272134  92.49272134  92.49272134]\n",
      "  [ 90.48780413  90.48780413  90.48780413]\n",
      "  [ 89.11297354  89.11297354  89.11297354]\n",
      "  ...\n",
      "  [103.79655997 103.79655997 103.79655997]\n",
      "  [ 96.99422405  96.99422405  96.99422405]\n",
      "  [ 93.04029049  93.04029049  93.04029049]]\n",
      "\n",
      " [[ 91.39956119  91.39956119  91.39956119]\n",
      "  [ 91.60865482  91.60865482  91.60865482]\n",
      "  [ 92.60145733  92.60145733  92.60145733]\n",
      "  ...\n",
      "  [101.94100665 101.94100665 101.94100665]\n",
      "  [ 95.73241124  95.73241124  95.73241124]\n",
      "  [ 99.69078685  99.69078685  99.69078685]]\n",
      "\n",
      " [[ 86.01977981  86.01977981  86.01977981]\n",
      "  [ 90.40624424  90.40624424  90.40624424]\n",
      "  [ 91.60865482  91.60865482  91.60865482]\n",
      "  ...\n",
      "  [102.66139584 102.66139584 102.66139584]\n",
      "  [ 99.69078685  99.69078685  99.69078685]\n",
      "  [102.66139584 102.66139584 102.66139584]]] (900, 1200) (900, 1200, 3)\n"
     ]
    }
   ],
   "source": [
    "# convert color for colorblind people \n",
    "# from http://mkweb.bcgsc.ca/colorblind/math.mhtml#page-container\n",
    "\n",
    "import numpy as np\n",
    "import cv2\n",
    "\n",
    "Tprotanopia = np.array( [[ 0.17056, 0.82944, 0], \n",
    "                         [ 0.17056, 0.82944, 0], \n",
    "                         [-0.00452, 0.00452, 1]] )\n",
    "Tdeuteranopia = np.array( [[ 0.33066, 0.66934, 0], \n",
    "                           [ 0.33066, 0.66934, 0], \n",
    "                           [-0.02786, 0.02786, 1]] )\n",
    "Ttritanopia = np.array( [[1, 0.1274,-0.1274], \n",
    "                         [0, 0.8739, 0.1261], \n",
    "                         [0, 0.8739, 0.1261]] )\n",
    "Tachromatopsia = np.array( [[0.2123, 0.7152, 0.0722], \n",
    "                            [0.2123, 0.7152, 0.0722], \n",
    "                            [0.2123, 0.7152, 0.0722]] )\n",
    "\n",
    "def ColorblindSRGB(Tmat, SRGB):\n",
    "    SRGB = cv2.cvtColor(SRGB, cv2.COLOR_BGR2RGB)\n",
    "    Ishape = np.shape(SRGB)[:2]\n",
    "    LRGB = np.where( SRGB/255<=0.04045, SRGB/255/12.92, \\\n",
    "                     (( SRGB/255+0.055)/1.055 )**2.4)\n",
    "    AA = np.copy(LRGB)#, dtype=np.float32)\n",
    "    LRGB = np.ravel(AA).reshape((-1,3))\n",
    "    newLRGB = np.dot(LRGB,Tmat.T).reshape((Ishape[0],Ishape[1],3))\n",
    "    #     newLRGB = np.dot(Tmat,LRGB)\n",
    "    newLRGB = np.where(newLRGB<0, 0, newLRGB)\n",
    "    newSRGB = np.where( newLRGB<=0.0031308, newLRGB*255*12.92, \\\n",
    "                        255*( 1.055*(newLRGB**(1/2.4)) - 0.055 ) )\n",
    "    print(newSRGB, Ishape, np.shape(newLRGB))\n",
    "    newSRGB = np.round(newSRGB).astype('uint8')\n",
    "    return cv2.cvtColor(newSRGB, cv2.COLOR_RGB2BGR)\n",
    "\n",
    "\n",
    "# srgb = cv2.imread(\"./rainbow_test.jpg\",)\n",
    "srgb = cv2.imread(\"./sample16.jpg\",)\n",
    "# IM = np.ones([50,100], dtype=np.uint8)\n",
    "# srgb=cv2.cvtColor( cv2.merge([153*IM,142*IM,195*IM]) , cv2.COLOR_BGR2RGB)\n",
    "\n",
    "cv2.imshow(\"srgb\", srgb)    \n",
    "Cprot = ColorblindSRGB(Tprotanopia, srgb);  cv2.imshow(\"Cprot\", Cprot)\n",
    "Cdeut = ColorblindSRGB(Tdeuteranopia, srgb);  cv2.imshow(\"Cdeut\", Cdeut)\n",
    "Ctrit = ColorblindSRGB(Ttritanopia, srgb);  cv2.imshow(\"Ctrit\", Ctrit)\n",
    "Cachr = ColorblindSRGB(Tachromatopsia, srgb);  cv2.imshow(\"Cachr\", Cachr)\n",
    "cv2.waitKey(0)\n",
    "cv2.destroyAllWindows()\n"
   ]
  },
  {
   "cell_type": "code",
   "execution_count": 23,
   "metadata": {
    "execution": {
     "iopub.execute_input": "2021-09-04T12:59:04.003977Z",
     "iopub.status.busy": "2021-09-04T12:59:04.003977Z",
     "iopub.status.idle": "2021-09-04T12:59:04.008967Z",
     "shell.execute_reply": "2021-09-04T12:59:04.008967Z",
     "shell.execute_reply.started": "2021-09-04T12:59:04.003977Z"
    }
   },
   "outputs": [
    {
     "data": {
      "text/plain": [
       "array([[[194., 143., 143.],\n",
       "        [194., 143., 143.],\n",
       "        [194., 143., 143.],\n",
       "        ...,\n",
       "        [194., 143., 143.],\n",
       "        [194., 143., 143.],\n",
       "        [194., 143., 143.]],\n",
       "\n",
       "       [[194., 143., 143.],\n",
       "        [194., 143., 143.],\n",
       "        [194., 143., 143.],\n",
       "        ...,\n",
       "        [194., 143., 143.],\n",
       "        [194., 143., 143.],\n",
       "        [194., 143., 143.]],\n",
       "\n",
       "       [[194., 143., 143.],\n",
       "        [194., 143., 143.],\n",
       "        [194., 143., 143.],\n",
       "        ...,\n",
       "        [194., 143., 143.],\n",
       "        [194., 143., 143.],\n",
       "        [194., 143., 143.]],\n",
       "\n",
       "       ...,\n",
       "\n",
       "       [[194., 143., 143.],\n",
       "        [194., 143., 143.],\n",
       "        [194., 143., 143.],\n",
       "        ...,\n",
       "        [194., 143., 143.],\n",
       "        [194., 143., 143.],\n",
       "        [194., 143., 143.]],\n",
       "\n",
       "       [[194., 143., 143.],\n",
       "        [194., 143., 143.],\n",
       "        [194., 143., 143.],\n",
       "        ...,\n",
       "        [194., 143., 143.],\n",
       "        [194., 143., 143.],\n",
       "        [194., 143., 143.]],\n",
       "\n",
       "       [[194., 143., 143.],\n",
       "        [194., 143., 143.],\n",
       "        [194., 143., 143.],\n",
       "        ...,\n",
       "        [194., 143., 143.],\n",
       "        [194., 143., 143.],\n",
       "        [194., 143., 143.]]])"
      ]
     },
     "execution_count": 23,
     "metadata": {},
     "output_type": "execute_result"
    }
   ],
   "source": [
    "Ctrit"
   ]
  },
  {
   "cell_type": "code",
   "execution_count": 15,
   "metadata": {
    "execution": {
     "iopub.execute_input": "2021-09-04T12:53:47.837863Z",
     "iopub.status.busy": "2021-09-04T12:53:47.837863Z",
     "iopub.status.idle": "2021-09-04T12:53:48.058019Z",
     "shell.execute_reply": "2021-09-04T12:53:48.058019Z",
     "shell.execute_reply.started": "2021-09-04T12:53:47.837863Z"
    }
   },
   "outputs": [
    {
     "name": "stdout",
     "output_type": "stream",
     "text": [
      "f= 721.6191021085695 \talfaH1= 23.914760200862816 \talfaH= 23.914760200862816 \tXmin= 0.9443797214671098\n",
      "      cx       cz         cXL          cX\n",
      "0   0.00  0.00000    0.000000    0.000000\n",
      "1   0.00  0.94438    0.000000 -152.823930\n",
      "2   0.05  0.94438   38.205982 -114.617947\n",
      "3   0.10  0.94438   76.411965  -76.411965\n",
      "4   0.15  0.94438  114.617947  -38.205982\n",
      "5   0.20  0.94438  152.823930    0.000000\n",
      "6   0.00  1.04438    0.000000 -138.190945\n",
      "7   0.05  1.04438   34.547736 -103.643209\n",
      "8   0.10  1.04438   69.095472  -69.095472\n",
      "9   0.15  1.04438  103.643209  -34.547736\n",
      "10  0.20  1.04438  138.190945    0.000000\n",
      "11  0.00  1.14438    0.000000 -126.115325\n",
      "12  0.05  1.14438   31.528831  -94.586494\n",
      "13  0.10  1.14438   63.057662  -63.057662\n",
      "14  0.15  1.14438   94.586494  -31.528831\n",
      "15  0.20  1.14438  126.115325    0.000000\n",
      "16  0.00  1.24438    0.000000 -115.980531\n",
      "17  0.05  1.24438   28.995133  -86.985398\n",
      "18  0.10  1.24438   57.990265  -57.990265\n",
      "19  0.15  1.24438   86.985398  -28.995133\n",
      "20  0.20  1.24438  115.980531    0.000000\n",
      "21  0.00  1.34438    0.000000 -107.353464\n",
      "22  0.05  1.34438   26.838366  -80.515098\n",
      "23  0.10  1.34438   53.676732  -53.676732\n",
      "24  0.15  1.34438   80.515098  -26.838366\n",
      "25  0.20  1.34438  107.353464    0.000000\n",
      "26  0.00  1.44438    0.000000  -99.920968\n",
      "27  0.05  1.44438   24.980242  -74.940726\n",
      "28  0.10  1.44438   49.960484  -49.960484\n",
      "29  0.15  1.44438   74.940726  -24.980242\n",
      "30  0.20  1.44438   99.920968    0.000000\n",
      "31  0.00  1.54438    0.000000  -93.450994\n",
      "32  0.05  1.54438   23.362749  -70.088246\n",
      "33  0.10  1.54438   46.725497  -46.725497\n",
      "34  0.15  1.54438   70.088246  -23.362749\n",
      "35  0.20  1.54438   93.450994    0.000000\n",
      "36  0.00  1.64438    0.000000  -87.767940\n",
      "37  0.05  1.64438   21.941985  -65.825955\n",
      "38  0.10  1.64438   43.883970  -43.883970\n",
      "39  0.15  1.64438   65.825955  -21.941985\n",
      "40  0.20  1.64438   87.767940    0.000000\n",
      "41  0.00  1.74438    0.000000  -82.736470\n",
      "42  0.05  1.74438   20.684117  -62.052352\n",
      "43  0.10  1.74438   41.368235  -41.368235\n",
      "44  0.15  1.74438   62.052352  -20.684117\n",
      "45  0.20  1.74438   82.736470    0.000000\n",
      "46  0.00  1.84438    0.000000  -78.250600\n",
      "47  0.05  1.84438   19.562650  -58.687950\n",
      "48  0.10  1.84438   39.125300  -39.125300\n",
      "49  0.15  1.84438   58.687950  -19.562650\n",
      "50  0.20  1.84438   78.250600    0.000000\n",
      "51  0.00  1.94438    0.000000  -74.226150\n",
      "52  0.05  1.94438   18.556537  -55.669612\n",
      "53  0.10  1.94438   37.113075  -37.113075\n",
      "54  0.15  1.94438   55.669612  -18.556537\n",
      "55  0.20  1.94438   74.226150    0.000000\n"
     ]
    },
    {
     "data": {
      "image/png": "[encoded data removed]",
      "text/plain": [
       "<Figure size 720x504 with 1 Axes>"
      ]
     },
     "metadata": {
      "needs_background": "light"
     },
     "output_type": "display_data"
    },
    {
     "ename": "NameError",
     "evalue": "name 'im1' is not defined",
     "output_type": "error",
     "traceback": [
      "\u001b[1;31m---------------------------------------------------------------------------\u001b[0m",
      "\u001b[1;31mNameError\u001b[0m                                 Traceback (most recent call last)",
      "\u001b[1;32m<ipython-input-15-0c92197e6e5a>\u001b[0m in \u001b[0;36m<module>\u001b[1;34m\u001b[0m\n\u001b[0;32m     45\u001b[0m \u001b[1;31m# plt.show()\u001b[0m\u001b[1;33m\u001b[0m\u001b[1;33m\u001b[0m\u001b[1;33m\u001b[0m\u001b[0m\n\u001b[0;32m     46\u001b[0m \u001b[1;33m\u001b[0m\u001b[0m\n\u001b[1;32m---> 47\u001b[1;33m \u001b[0mplt\u001b[0m\u001b[1;33m.\u001b[0m\u001b[0mfigure\u001b[0m\u001b[1;33m(\u001b[0m\u001b[0mfigsize\u001b[0m\u001b[1;33m=\u001b[0m\u001b[1;33m(\u001b[0m\u001b[1;36m8\u001b[0m\u001b[1;33m,\u001b[0m\u001b[1;36m4.5\u001b[0m\u001b[1;33m)\u001b[0m\u001b[1;33m)\u001b[0m\u001b[1;33m;\u001b[0m \u001b[0mplt\u001b[0m\u001b[1;33m.\u001b[0m\u001b[0mimshow\u001b[0m\u001b[1;33m(\u001b[0m\u001b[0mim1\u001b[0m\u001b[1;33m)\u001b[0m\u001b[1;33m;\u001b[0m \u001b[0mplt\u001b[0m\u001b[1;33m.\u001b[0m\u001b[0mtight_layout\u001b[0m\u001b[1;33m(\u001b[0m\u001b[1;33m)\u001b[0m\u001b[1;33m\u001b[0m\u001b[1;33m\u001b[0m\u001b[0m\n\u001b[0m",
      "\u001b[1;31mNameError\u001b[0m: name 'im1' is not defined"
     ]
    },
    {
     "data": {
      "text/plain": [
       "<Figure size 576x324 with 0 Axes>"
      ]
     },
     "metadata": {},
     "output_type": "display_data"
    }
   ],
   "source": [
    "%matplotlib inline\n",
    "\n",
    "from mpl_toolkits import mplot3d\n",
    "from matplotlib import pyplot as plt\n",
    "import numpy as np\n",
    "np.set_printoptions(suppress=True)\n",
    "# import scipy as sp\n",
    "import pandas as pd\n",
    "\n",
    "alfa = 58 * np.pi/180 ; h = 480; w = 640; gama = np.tan(h/w)\n",
    "b = 0.2 # unit: metres\n",
    "# formula from https://learnopencv.com/approximate-focal-length-for-webcams-and-cell-phone-cameras/\n",
    "f = np.sqrt(h*h + w*w) / 2 / np.tan(alfa/2) # unit: pixels\n",
    "# formula from http://www.therandomlab.com/2013/03/logitech-c920-and-c910-fields-of-view.html\n",
    "alfaH1 = 2 * np.arctan( np.tan(alfa) * np.cos( np.arctan(h/w) ) )\n",
    "# my formula\n",
    "alfaH = np.arctan(w/2/f)\n",
    "\n",
    "Zmin = b / np.tan(alfaH/2)\n",
    "Zvals = np.arange(Zmin, Zmin+1.001, 0.1)\n",
    "Xvals = np.arange(0, b+0.001, 0.05)\n",
    "print(\"f=\", f, '\\talfaH1=', alfaH*180/np.pi, '\\talfaH=', alfaH*180/np.pi, \"\\tXmin=\", Zmin)\n",
    "\n",
    "data = np.array([[0,0,0,0]])\n",
    "for Z in Zvals:\n",
    "    for X in Xvals:\n",
    "        XL = X/Z*f;  XR = (X-b)/Z*f\n",
    "#         print(Z, X, XL, XR)\n",
    "        data = np.append(data, [[X,Z,XL,XR]], axis=0)\n",
    "disparityDF = pd.DataFrame({'cx':data[:,0], 'cz':data[:,1], 'cXL':data[:,2], 'cX':data[:,3]})  \n",
    "data = np.delete(data,0,0)\n",
    "print(disparityDF)\n",
    "        \n",
    "fig = plt.figure(figsize = (10, 7))\n",
    "ax = plt.axes(projection =\"3d\")\n",
    "ax.scatter3D(data[:,0], data[:,1], data[:,2]-data[:,3], color = \"green\")\n",
    "plt.title(\"simple 3D scatter plot\")\n",
    "plt.show()\n",
    "\n",
    "\n",
    "# fig = plt.figure(figsize=(9,3))\n",
    "# for i in range(8):\n",
    "#     #plt.plot( DQdata[:,i], c=[0.25+i*0.75/iter_steps,0.75-i*0.75/iter_steps,i/iter_steps])#, alpha=i/iter_steps)\n",
    "#     plt.plot( DQdata[:,i], c=[max(0,1-2*i/7), .8+min(.5-i/7,i/7-.5), max(0,2*i/7-1)])\n",
    "# plt.show()\n",
    "\n",
    "plt.figure(figsize=(8,4.5)); plt.imshow(im1); plt.tight_layout()\n"
   ]
  },
  {
   "cell_type": "code",
   "execution_count": 14,
   "metadata": {
    "execution": {
     "iopub.execute_input": "2021-09-04T04:08:59.220166Z",
     "iopub.status.busy": "2021-09-04T04:08:59.220166Z",
     "iopub.status.idle": "2021-09-04T04:08:59.224157Z",
     "shell.execute_reply": "2021-09-04T04:08:59.224157Z",
     "shell.execute_reply.started": "2021-09-04T04:08:59.220166Z"
    }
   },
   "outputs": [
    {
     "name": "stdout",
     "output_type": "stream",
     "text": [
      "Available matplotlib backends: ['tk', 'gtk', 'gtk3', 'wx', 'qt4', 'qt5', 'qt', 'osx', 'nbagg', 'notebook', 'agg', 'svg', 'pdf', 'ps', 'inline', 'ipympl', 'widget']\n"
     ]
    }
   ],
   "source": [
    "%matplotlib --list"
   ]
  },
  {
   "cell_type": "code",
   "execution_count": null,
   "metadata": {},
   "outputs": [],
   "source": []
  },
  {
   "cell_type": "code",
   "execution_count": 28,
   "metadata": {
    "execution": {
     "iopub.execute_input": "2021-08-31T00:42:33.311670Z",
     "iopub.status.busy": "2021-08-31T00:42:33.311670Z",
     "iopub.status.idle": "2021-08-31T00:42:33.321680Z",
     "shell.execute_reply": "2021-08-31T00:42:33.321680Z",
     "shell.execute_reply.started": "2021-08-31T00:42:33.311670Z"
    }
   },
   "outputs": [],
   "source": [
    "import numpy as np\n",
    "import pandas as pd\n",
    "\n",
    "x = np.arange(6,8.5,0.5)\n",
    "y = x + np.random.randn()\n",
    "output_df = pd.DataFrame({'cx':x, 'cy':y})  \n",
    "output_df.to_csv('output_file_name.dat', index=False)#, sep='\\t')\n",
    "\n"
   ]
  },
  {
   "cell_type": "code",
   "execution_count": 27,
   "metadata": {
    "execution": {
     "iopub.execute_input": "2021-08-31T00:31:35.598284Z",
     "iopub.status.busy": "2021-08-31T00:31:35.598284Z",
     "iopub.status.idle": "2021-08-31T00:31:35.616270Z",
     "shell.execute_reply": "2021-08-31T00:31:35.614296Z",
     "shell.execute_reply.started": "2021-08-31T00:31:35.598284Z"
    }
   },
   "outputs": [
    {
     "data": {
      "text/plain": [
       "'  cx        cy\\n 6.0  5.247675\\n 6.5  5.747675\\n 7.0  6.247675\\n 7.5  6.747675\\n 8.0  7.247675'"
      ]
     },
     "execution_count": 27,
     "metadata": {},
     "output_type": "execute_result"
    }
   ],
   "source": [
    "output_df.to_string(index=False)"
   ]
  },
  {
   "cell_type": "code",
   "execution_count": 9,
   "metadata": {
    "execution": {
     "iopub.execute_input": "2021-08-31T00:06:36.035521Z",
     "iopub.status.busy": "2021-08-31T00:06:36.035521Z",
     "iopub.status.idle": "2021-08-31T00:06:36.038523Z",
     "shell.execute_reply": "2021-08-31T00:06:36.038523Z",
     "shell.execute_reply.started": "2021-08-31T00:06:36.035521Z"
    }
   },
   "outputs": [
    {
     "data": {
      "text/plain": [
       "\u001b[1;31mDocstring:\u001b[0m\n",
       "random(size=None)\n",
       "\n",
       "Return random floats in the half-open interval [0.0, 1.0). Alias for\n",
       "`random_sample` to ease forward-porting to the new random API.\n",
       "\u001b[1;31mType:\u001b[0m      builtin_function_or_method\n"
      ]
     },
     "metadata": {},
     "output_type": "display_data"
    }
   ],
   "source": [
    "?np.random.random"
   ]
  },
  {
   "cell_type": "code",
   "execution_count": 14,
   "metadata": {
    "execution": {
     "iopub.execute_input": "2021-09-04T12:53:36.917341Z",
     "iopub.status.busy": "2021-09-04T12:53:36.917341Z",
     "iopub.status.idle": "2021-09-04T12:53:36.926334Z",
     "shell.execute_reply": "2021-09-04T12:53:36.926334Z",
     "shell.execute_reply.started": "2021-09-04T12:53:36.917341Z"
    }
   },
   "outputs": [
    {
     "name": "stdout",
     "output_type": "stream",
     "text": [
      "(2, 3)\n"
     ]
    },
    {
     "data": {
      "text/plain": [
       "[[13 14 15]\n",
       " [23 24 25]]"
      ]
     },
     "execution_count": 14,
     "metadata": {},
     "output_type": "execute_result"
    }
   ],
   "source": [
    "import numpy as np\n",
    "import pandas as pd\n",
    "\n",
    "class Traj:\n",
    "    def __init__(self):\n",
    "        self.Pts = np.empty((1,3))\n",
    "        self.N=0\n",
    "\n",
    "    def __repr__(self):\n",
    "        return np.array_str(self.Pts)\n",
    "        \n",
    "#     def __str__(self): # for printing\n",
    "#         return 'Quat(%f, [%f, %f, %f])' % \\\n",
    "#             ( self.s, self.v[0], self.v[1], self.v[2] )\n",
    "        \n",
    "        \n",
    "    def AddNewPt(self, NewPt):\n",
    "        NewPt = np.array(NewPt).reshape(1,-1)\n",
    "        if self.N == 0:\n",
    "            self.Pts = np.array(NewPt)\n",
    "        else:\n",
    "            self.Pts = np.append(self.Pts, NewPt, axis=0)\n",
    "        self.N += 1\n",
    "        \n",
    "TA = Traj()\n",
    "TA.AddNewPt([13,14,15])\n",
    "TA.AddNewPt([23,24,25])\n",
    "print(np.shape(TA.Pts))\n",
    "TA"
   ]
  },
  {
   "cell_type": "code",
   "execution_count": null,
   "metadata": {},
   "outputs": [],
   "source": []
  }
 ],
 "metadata": {
  "kernelspec": {
   "display_name": "Python 3",
   "language": "python",
   "name": "python3"
  },
  "language_info": {
   "codemirror_mode": {
    "name": "ipython",
    "version": 3
   },
   "file_extension": ".py",
   "mimetype": "text/x-python",
   "name": "python",
   "nbconvert_exporter": "python",
   "pygments_lexer": "ipython3",
   "version": "3.8.5"
  }
 },
 "nbformat": 4,
 "nbformat_minor": 4
}
