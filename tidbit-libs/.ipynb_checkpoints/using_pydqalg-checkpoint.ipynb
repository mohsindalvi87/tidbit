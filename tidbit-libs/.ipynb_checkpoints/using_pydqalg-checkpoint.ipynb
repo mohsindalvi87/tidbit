{
 "cells": [
  {
   "cell_type": "code",
   "execution_count": 113,
   "metadata": {
    "execution": {
     "iopub.execute_input": "2021-09-15T16:39:39.069946Z",
     "iopub.status.busy": "2021-09-15T16:39:39.068945Z",
     "iopub.status.idle": "2021-09-15T16:39:39.083955Z",
     "shell.execute_reply": "2021-09-15T16:39:39.083955Z",
     "shell.execute_reply.started": "2021-09-15T16:39:39.069946Z"
    }
   },
   "outputs": [
    {
     "name": "stdout",
     "output_type": "stream",
     "text": [
      "qc.mulML [[ 0.7071 -0.     -0.     -0.7071]\n",
      " [ 0.      0.7071 -0.7071  0.    ]\n",
      " [ 0.      0.7071  0.7071  0.    ]\n",
      " [ 0.7071  0.      0.      0.7071]]\n",
      "conj(a) Quat(0.500000, [-0.500000, 0.500000, -0.500000])\n",
      "2qb Quat(1.000000, [-1.000000, 1.000000, 1.000000])\n",
      "qa+qb Quat(1.000000, [0.000000, 0.000000, 1.000000])\n",
      "norm(qa+qb) 1.4142135623730951\n",
      "inv(qa+qb) Quat(0.500000, [-0.000000, -0.000000, -0.500000])\n",
      "(qa+qb)*(qa+qb).inv() Quat(1.000000, [0.000000, 0.000000, 0.000000])\n",
      "qa-qb Quat(0.000000, [1.000000, -1.000000, 0.000000])\n",
      "\n",
      "(qa*qb).q2axisangle() (array([-0.57735027, -0.57735027,  0.57735027]), 2.0943951023931957)\n",
      "(qa*qb).q2rotmat() [[ 0.  0. -1.]\n",
      " [ 1.  0.  0.]\n",
      " [ 0. -1.  0.]]\n",
      "(qa*qb).q2YPR() (-1.5707963267948966, -0.0, 1.5707963267948966)\n",
      "\n",
      "(qb*qa).q2axisangle() (array([0.57735027, 0.57735027, 0.57735027]), 2.0943951023931957)\n",
      "(qb*qa).q2rotmat() [[0. 0. 1.]\n",
      " [1. 0. 0.]\n",
      " [0. 1. 0.]]\n",
      "(qb*qa).q2YPR() (1.5707963267948966, -0.0, 1.5707963267948966)\n",
      "\n",
      "(qc*qd).q2axisangle() (array([0., 0., 1.]), 2.617994281776074)\n",
      "(qc*qd).q2rotmat() [[-0.86602561 -0.49999965  0.        ]\n",
      " [ 0.49999965 -0.86602561  0.        ]\n",
      " [ 0.          0.          1.        ]]\n",
      "(qc*qd).q2YPR() (0.0, -0.0, 2.6179942817760744)\n"
     ]
    }
   ],
   "source": [
    "import pydqalg as dq\n",
    "\n",
    "\n",
    "qa = dq.Quat(.5, [ .5,-.5, .5])\n",
    "qb = dq.Quat(.5, [-.5, .5, .5])\n",
    "qc = dq.Quat(.7071, [0,0,.7071])\n",
    "qd = dq.Quat(.866025, [0,0,.5])\n",
    "print(\"qc.mmatL\", qc.mmatL())\n",
    "print(\"conj(a)\", qa.conj())\n",
    "print(\"2qb\", 2*qb)\n",
    "print(\"qa+qb\", qa+qb)\n",
    "print(\"norm(qa+qb)\", (qa+qb).norm())\n",
    "print(\"inv(qa+qb)\", (qa+qb).inv())\n",
    "print(\"(qa+qb)*(qa+qb).inv()\", (qa+qb)*(qa+qb).inv())\n",
    "print(\"qa-qb\", qa-qb)\n",
    "print(\"\\n(qa*qb).q2axisangle()\", (qa*qb).q2axisangle())\n",
    "print(\"(qa*qb).q2rotmat()\", (qa*qb).q2rotmat())\n",
    "print(\"(qa*qb).q2YPR()\", (qa*qb).q2YPR())\n",
    "print(\"\\n(qb*qa).q2axisangle()\", (qb*qa).q2axisangle())\n",
    "print(\"(qb*qa).q2rotmat()\", (qb*qa).q2rotmat())\n",
    "print(\"(qb*qa).q2YPR()\", (qb*qa).q2YPR())\n",
    "print(\"\\n(qc*qd).q2axisangle()\", (qc*qd).q2axisangle())\n",
    "print(\"(qc*qd).q2rotmat()\", (qc*qd).q2rotmat())\n",
    "print(\"(qc*qd).q2YPR()\", (qc*qd).q2YPR())\n",
    "\n"
   ]
  },
  {
   "cell_type": "code",
   "execution_count": 2,
   "metadata": {
    "execution": {
     "iopub.execute_input": "2021-08-10T17:36:32.361337Z",
     "iopub.status.busy": "2021-08-10T17:36:32.360336Z",
     "iopub.status.idle": "2021-08-10T17:36:33.143175Z",
     "shell.execute_reply": "2021-08-10T17:36:33.143175Z",
     "shell.execute_reply.started": "2021-08-10T17:36:32.360336Z"
    }
   },
   "outputs": [
    {
     "data": {
      "image/png": "[encoded data removed]",
      "text/latex": [
       "$\\displaystyle 150.00002313515228$"
      ],
      "text/plain": [
       "150.00002313515228"
      ]
     },
     "execution_count": 2,
     "metadata": {},
     "output_type": "execute_result"
    }
   ],
   "source": []
  },
  {
   "cell_type": "code",
   "execution_count": 42,
   "metadata": {
    "execution": {
     "iopub.execute_input": "2021-08-11T18:14:28.575841Z",
     "iopub.status.busy": "2021-08-11T18:14:28.575841Z",
     "iopub.status.idle": "2021-08-11T18:14:28.602861Z",
     "shell.execute_reply": "2021-08-11T18:14:28.602861Z",
     "shell.execute_reply.started": "2021-08-11T18:14:28.575841Z"
    }
   },
   "outputs": [
    {
     "name": "stdout",
     "output_type": "stream",
     "text": [
      "120.00000000000001\n",
      "0.8660254037844386 0.7499993006250001\n",
      "[ 4 10 18] 32 32 32 [-3  6 -3] [2 4 6] [ 8 10 12]\n",
      "(1, 3) [[4]\n",
      " [5]\n",
      " [6]] [[4 5 6]] [7 8 9] [[ 7  8  9]\n",
      " [10 11 12]\n",
      " [13 14 15]]\n",
      "[ 0 -1 -2 -3]\n",
      "[[ 4  7  8  9]\n",
      " [ 5 10 11 12]\n",
      " [ 6 13 14 15]]\n",
      "[[ 0 -1 -2 -3]\n",
      " [ 4  7  8  9]\n",
      " [ 5 10 11 12]\n",
      " [ 6 13 14 15]]\n",
      "[0 1 2 3 4 5 6]\n",
      "[4 5 6] [4, 5, 6] [[1. 0. 0.]\n",
      " [0. 1. 0.]\n",
      " [0. 0. 1.]]\n",
      "[[4. 0. 0. 0. 0. 0. 0. 0. 0.]\n",
      " [0. 5. 0. 0. 0. 0. 0. 0. 0.]\n",
      " [0. 0. 6. 0. 0. 0. 0. 0. 0.]\n",
      " [0. 0. 0. 4. 0. 0. 0. 0. 0.]\n",
      " [0. 0. 0. 0. 5. 0. 0. 0. 0.]\n",
      " [0. 0. 0. 0. 0. 6. 0. 0. 0.]\n",
      " [0. 0. 0. 0. 0. 0. 4. 0. 0.]\n",
      " [0. 0. 0. 0. 0. 0. 0. 5. 0.]\n",
      " [0. 0. 0. 0. 0. 0. 0. 0. 6.]]\n",
      "3\n"
     ]
    }
   ],
   "source": [
    "import numpy as np\n",
    "\n",
    "print(dq.R2D(2.0943951023931957))\n",
    "print(0.75**0.5 , 0.866025**2)\n",
    "\n",
    "na=0\n",
    "nb = np.array([1,2,3])\n",
    "nc = np.array([4,5,6])\n",
    "nd = np.array([ [7,8,9], [10,11,12], [13,14,15] ])\n",
    "\n",
    "print(nb*nc, sum(nb*nc), np.inner(nb,nc), np.dot(nb,nc), \\\n",
    "      np.cross(nb,nc), 2*nb, np.multiply(2,nc))\n",
    "\n",
    "print( np.shape([[nc]][0]), nc.reshape(3,1), nc.reshape(3,1).T, nd[0], nd )\n",
    "\n",
    "Ra = np.hstack((na, -nb)); print(Ra)\n",
    "Rb = np.hstack((nc.reshape(3,1), nd)); print(Rb)\n",
    "RR = np.vstack((Ra, Rb)); print(RR)\n",
    "\n",
    "# np.inner?\n",
    "\n",
    "print(np.hstack((na, nb, nc)))\n",
    "print(nc, nc.tolist(), np.eye(3))\n",
    "a=np.eye(9); np.fill_diagonal(a,nc.tolist()); print(a)\n",
    "print(len(nc))\n"
   ]
  },
  {
   "cell_type": "code",
   "execution_count": 4,
   "metadata": {
    "execution": {
     "iopub.execute_input": "2021-08-10T17:36:33.161198Z",
     "iopub.status.busy": "2021-08-10T17:36:33.160187Z",
     "iopub.status.idle": "2021-08-10T17:36:33.283283Z",
     "shell.execute_reply": "2021-08-10T17:36:33.283283Z",
     "shell.execute_reply.started": "2021-08-10T17:36:33.160187Z"
    }
   },
   "outputs": [
    {
     "name": "stdout",
     "output_type": "stream",
     "text": [
      "1\n",
      "0\n",
      "1\n"
     ]
    }
   ],
   "source": [
    "def fun1(n):\n",
    "    return n if n>0 else -n\n",
    "\n",
    "print(fun1(1))\n",
    "print(fun1(0))\n",
    "print(fun1(1))\n",
    "\n"
   ]
  },
  {
   "cell_type": "code",
   "execution_count": 8,
   "metadata": {
    "execution": {
     "iopub.execute_input": "2021-08-11T09:46:43.400623Z",
     "iopub.status.busy": "2021-08-11T09:46:43.400623Z",
     "iopub.status.idle": "2021-08-11T09:46:43.407629Z",
     "shell.execute_reply": "2021-08-11T09:46:43.407629Z",
     "shell.execute_reply.started": "2021-08-11T09:46:43.400623Z"
    }
   },
   "outputs": [
    {
     "name": "stdout",
     "output_type": "stream",
     "text": [
      "DualQuat(Quat(1.000000, [0.000000, 0.000000, 1.000000])\n",
      "         + ε Quat(1.573125, [0.000000, 0.000000, 1.207100]))\n",
      "DualQuat(Quat(0.000000, [1.000000, -1.000000, 0.000000])\n",
      "         + ε Quat(-0.158925, [0.000000, 0.000000, 0.207100]))\n",
      "DualQuat(Quat(0.500000, [0.500000, -0.500000, 0.500000])\n",
      "         + ε Quat(1.000000, [2.000000, 3.000000, 0.000000]))\n",
      "DualQuat(Quat(0.500000, [0.500000, -0.500000, 0.500000])\n",
      "         + ε Quat(1.000000, [-3.000000, 0.000000, 2.000000]))\n"
     ]
    }
   ],
   "source": [
    "dqa = dq.DualQuat(qa, qc)\n",
    "dqb = dq.DualQuat(qb, qd)\n",
    "dqc = dq.DualQuat(dq.Quat(1, [0,0,0]), dq.Quat(0, [-1,3,2]))\n",
    "dqd = dq.DualQuat(qa, dq.Quat(0, [0,0,0]))\n",
    "\n",
    "print(dqa+dqb)\n",
    "print(dqa-dqb)\n",
    "print(dqc*dqd)\n",
    "print(dqd*dqc)"
   ]
  },
  {
   "cell_type": "code",
   "execution_count": null,
   "metadata": {},
   "outputs": [],
   "source": [
    "\n",
    "\n"
   ]
  },
  {
   "cell_type": "code",
   "execution_count": null,
   "metadata": {},
   "outputs": [],
   "source": []
  },
  {
   "cell_type": "code",
   "execution_count": null,
   "metadata": {},
   "outputs": [],
   "source": []
  },
  {
   "cell_type": "code",
   "execution_count": null,
   "metadata": {},
   "outputs": [],
   "source": []
  },
  {
   "cell_type": "code",
   "execution_count": null,
   "metadata": {},
   "outputs": [],
   "source": []
  },
  {
   "cell_type": "code",
   "execution_count": null,
   "metadata": {},
   "outputs": [],
   "source": []
  },
  {
   "cell_type": "code",
   "execution_count": null,
   "metadata": {},
   "outputs": [],
   "source": []
  },
  {
   "cell_type": "code",
   "execution_count": null,
   "metadata": {},
   "outputs": [],
   "source": []
  },
  {
   "cell_type": "code",
   "execution_count": null,
   "metadata": {},
   "outputs": [],
   "source": []
  },
  {
   "cell_type": "code",
   "execution_count": null,
   "metadata": {},
   "outputs": [],
   "source": []
  },
  {
   "cell_type": "code",
   "execution_count": null,
   "metadata": {},
   "outputs": [],
   "source": []
  },
  {
   "cell_type": "code",
   "execution_count": null,
   "metadata": {},
   "outputs": [],
   "source": []
  },
  {
   "cell_type": "code",
   "execution_count": null,
   "metadata": {},
   "outputs": [],
   "source": []
  },
  {
   "cell_type": "code",
   "execution_count": null,
   "metadata": {},
   "outputs": [],
   "source": []
  },
  {
   "cell_type": "code",
   "execution_count": null,
   "metadata": {},
   "outputs": [],
   "source": []
  },
  {
   "cell_type": "code",
   "execution_count": null,
   "metadata": {},
   "outputs": [],
   "source": []
  },
  {
   "cell_type": "code",
   "execution_count": null,
   "metadata": {},
   "outputs": [],
   "source": []
  },
  {
   "cell_type": "code",
   "execution_count": null,
   "metadata": {},
   "outputs": [],
   "source": []
  },
  {
   "cell_type": "code",
   "execution_count": null,
   "metadata": {},
   "outputs": [],
   "source": []
  },
  {
   "cell_type": "code",
   "execution_count": null,
   "metadata": {},
   "outputs": [],
   "source": []
  },
  {
   "cell_type": "code",
   "execution_count": null,
   "metadata": {},
   "outputs": [],
   "source": []
  },
  {
   "cell_type": "code",
   "execution_count": null,
   "metadata": {},
   "outputs": [],
   "source": []
  },
  {
   "cell_type": "code",
   "execution_count": 53,
   "metadata": {
    "execution": {
     "iopub.execute_input": "2021-09-08T17:47:57.385903Z",
     "iopub.status.busy": "2021-09-08T17:47:57.385903Z",
     "iopub.status.idle": "2021-09-08T17:48:04.208389Z",
     "shell.execute_reply": "2021-09-08T17:48:04.206387Z",
     "shell.execute_reply.started": "2021-09-08T17:47:57.385903Z"
    }
   },
   "outputs": [],
   "source": [
    "from PIL import ImageGrab\n",
    "import cv2\n",
    "import numpy as np\n",
    "\n",
    "img = ImageGrab.grabclipboard()\n",
    "open_cv_image = np.array(img.convert('RGB')) \n",
    "# open_cv_image = open_cv_image[:, :, ::-1].copy() \n",
    "cv2.imshow(\"grabclipboard\",open_cv_image)\n",
    "cv2.waitKey(0)\n",
    "cv2.destroyAllWindows()\n"
   ]
  },
  {
   "cell_type": "code",
   "execution_count": 7,
   "metadata": {
    "execution": {
     "iopub.execute_input": "2021-09-04T12:47:32.358425Z",
     "iopub.status.busy": "2021-09-04T12:47:32.358425Z",
     "iopub.status.idle": "2021-09-04T12:47:34.688110Z",
     "shell.execute_reply": "2021-09-04T12:47:34.685106Z",
     "shell.execute_reply.started": "2021-09-04T12:47:32.358425Z"
    }
   },
   "outputs": [
    {
     "name": "stdout",
     "output_type": "stream",
     "text": [
      "<class 'numpy.ndarray'>\n"
     ]
    }
   ],
   "source": [
    "import numpy as np\n",
    "import cv2\n",
    "\n",
    "# cv2.merge([153*np.ones([10,10]),142*np.ones([10,10]),195*np.ones([10,10])])\n",
    "srgb = cv2.imread(\"./rainbow_test.jpg\")\n",
    "IM = np.ones([50,100], dtype=np.uint8)\n",
    "# srgb = np.copy(srgb[:50,:100])\n",
    "srgb=cv2.cvtColor( cv2.merge([153*IM,142*IM,195*IM]) , cv2.COLOR_BGR2RGB)\n",
    "print(type(srgb[0,0]))\n",
    "cv2.imshow(\"srgb\",srgb)\n",
    "cv2.waitKey(0)\n",
    "cv2.destroyAllWindows()\n"
   ]
  },
  {
   "cell_type": "code",
   "execution_count": 13,
   "metadata": {
    "execution": {
     "iopub.execute_input": "2021-09-13T13:22:49.573591Z",
     "iopub.status.busy": "2021-09-13T13:22:49.572590Z",
     "iopub.status.idle": "2021-09-13T13:35:55.737877Z",
     "shell.execute_reply": "2021-09-13T13:35:55.734902Z",
     "shell.execute_reply.started": "2021-09-13T13:22:49.573591Z"
    }
   },
   "outputs": [
    {
     "name": "stdout",
     "output_type": "stream",
     "text": [
      "(262, 352) (262, 352, 3)\n",
      "(262, 352) (262, 352, 3)\n",
      "(262, 352) (262, 352, 3)\n"
     ]
    }
   ],
   "source": [
    "# convert color for colorblind people \n",
    "# from http://mkweb.bcgsc.ca/colorblind/math.mhtml#page-container\n",
    "\n",
    "import numpy as np\n",
    "import cv2\n",
    "from PIL import ImageGrab\n",
    "\n",
    "# Tprotanopia = np.array( [[ 0.170557, 0.829443, 0], \n",
    "#                          [ 0.170557, 0.829443, 0], \n",
    "#                          [-0.00452, 0.00452, 1]] )\n",
    "# Tdeuteranopia = np.array( [[ 0.33066, 0.66934, 0], \n",
    "#                            [ 0.33066, 0.66934, 0], \n",
    "#                            [-0.02786, 0.02786, 1]] )\n",
    "# Ttritanopia = np.array( [[1, 0.1274,-0.1274], \n",
    "#                          [0, 0.8739, 0.1261], \n",
    "#                          [0, 0.8739, 0.1261]] )\n",
    "# Tachromatopsia = np.array( [[0.2123, 0.7152, 0.0722], \n",
    "#                             [0.2123, 0.7152, 0.0722], \n",
    "#                             [0.2123, 0.7152, 0.0722]] )\n",
    "\n",
    "def ColorblindSRGB(SRGB, anomaly=1):\n",
    "    Tanomaly = np.array( [ # choose 1 of the 4 2D arrays from this 3D array\n",
    "        [[0.2123,0.7152,0.0722], [0.2123,0.7152,0.0722],[0.2123,0.7152,0.0722]] \n",
    "        , [[0.170557,0.829443,0], [0.170557,0.829443,0], [-0.00452,0.00452,1]] \n",
    "        , [[0.33066,0.669339,0], [0.33066,0.669339,0], [-0.02786,0.02786,1]] \n",
    "        , [[1,0.12739,-0.12739], [0,0.87391,0.12609], [0,0.87391,0.12609]] \n",
    "        ] ) # [0=Achromatopsia 1=Protanopia 2=Deuteranopia 3=Tritanopia]\n",
    "    SRGB = cv2.cvtColor(SRGB, cv2.COLOR_BGR2RGB)\n",
    "    Ishape = np.shape(SRGB)[:2]\n",
    "#     print(Tanomaly[anomaly, :, :], Ishape)\n",
    "    LRGB = np.where( SRGB/255<=0.04045, SRGB/255/12.92, \\\n",
    "                     (( SRGB/255+0.055)/1.055 )**2.4)\n",
    "    AA = np.copy(LRGB)#, dtype=np.float32)\n",
    "    LRGB = np.ravel(AA).reshape((-1,3))\n",
    "    newLRGB = np.dot(LRGB,Tanomaly[anomaly, :, :].T). reshape( \\\n",
    "                    (Ishape[0],Ishape[1],3) )  # newLRGB = np.dot(Tmat,LRGB)\n",
    "\n",
    "    newLRGB = np.where(newLRGB<0, 0, newLRGB) # clip <0 to 0\n",
    "    newLRGB = np.where(newLRGB>1, 1, newLRGB) # clip >1 to 1\n",
    "    newSRGB = np.where( newLRGB<=0.0031308, newLRGB*255*12.92, \\\n",
    "                        255*( 1.055*(newLRGB**(1/2.4)) - 0.055 ) )\n",
    "    print(Ishape, np.shape(newLRGB))\n",
    "    newSRGB = np.round(newSRGB).astype('uint8')\n",
    "    return cv2.cvtColor(newSRGB, cv2.COLOR_RGB2BGR)\n",
    "\n",
    "\n",
    "# IM = np.ones([50,100], dtype=np.uint8)\n",
    "# srgb=cv2.cvtColor( cv2.merge([153*IM,142*IM,195*IM]) , cv2.COLOR_BGR2RGB)\n",
    "# srgb = cv2.imread(\"./untitled2.png\",) # \n",
    "# srgb = cv2.imread(\"./rainbow_test3.jpg\",) # (\"./sample16.jpg\",) # (\"./rainbow_test2.jpg\",) # \n",
    "\n",
    "# paste from clipboard\n",
    "img = ImageGrab.grabclipboard().convert('RGB'); \n",
    "srgb = cv2.cvtColor( np.array(img) , cv2.COLOR_RGB2BGR)\n",
    "\n",
    "if((resize:=1)==1): # do resize:=1 for resizing image\n",
    "    imW = np.shape(srgb)[:2]; scale = max(1,np.ceil((imW[0]-64)/384))\n",
    "    size = ( int(imW[1]/scale), int(imW[0]/scale) )\n",
    "    srgb = cv2.resize(srgb, size, interpolation = cv2.INTER_NEAREST)\n",
    "\n",
    "def TxtIm(text, img):\n",
    "    return cv2.putText(img,text,(10,20), cv2.FONT_HERSHEY_SIMPLEX, 0.3, \\\n",
    "                       (191,0,191), 1, cv2.LINE_AA)\n",
    "\n",
    "# cv2.imshow(\"Normal\", srgb)    \n",
    "# [0=Achromatopsia 1=Protanopia 2=Deuteranopia 3=Tritanopia]\n",
    "# ClrBld = ColorblindSRGB(srgb);  cv2.imshow(\"Default option Protanopia\", ClrBld)\n",
    "Cachr = ColorblindSRGB(srgb, 0);  # cv2.imshow(\"Achromatopsia\", Cachr)\n",
    "# Cprot = ColorblindSRGB(srgb, 1);  cv2.imshow(\"Protanopia\", Cprot)\n",
    "Cdeut = ColorblindSRGB(srgb, 2);  # cv2.imshow(\"Deuteranopia\", Cdeut)\n",
    "Ctrit = ColorblindSRGB(srgb, 3);  # cv2.imshow(\"Tritanopia\", Ctrit)\n",
    "cv2.imshow(\" \", cv2.hconcat([ cv2.vconcat([\n",
    "                            TxtIm(\"Normal\",srgb),\n",
    "                            TxtIm(\"Achromatopsia\",Cachr), ]), cv2.vconcat([\n",
    "                            TxtIm(\"Deuteranopia (Protanopia is similar)\",Cdeut),\n",
    "                            TxtIm(\"Tritanopia\",Ctrit)]) ]))\n",
    "cv2.waitKey(0)\n",
    "cv2.destroyAllWindows()\n"
   ]
  },
  {
   "cell_type": "code",
   "execution_count": 112,
   "metadata": {
    "execution": {
     "iopub.execute_input": "2021-09-08T19:20:38.599581Z",
     "iopub.status.busy": "2021-09-08T19:20:38.598574Z",
     "iopub.status.idle": "2021-09-08T19:20:39.438425Z",
     "shell.execute_reply": "2021-09-08T19:20:39.438425Z",
     "shell.execute_reply.started": "2021-09-08T19:20:38.599581Z"
    }
   },
   "outputs": [
    {
     "data": {
      "image/png": "[encoded data removed]",
      "text/latex": [
       "$\\displaystyle 1$"
      ],
      "text/plain": [
       "1"
      ]
     },
     "execution_count": 112,
     "metadata": {},
     "output_type": "execute_result"
    }
   ],
   "source": [
    "imW = 40\n",
    "max(1,np.ceil((imW-64)/320))\n"
   ]
  },
  {
   "cell_type": "code",
   "execution_count": 101,
   "metadata": {
    "execution": {
     "iopub.execute_input": "2021-09-08T19:15:12.221203Z",
     "iopub.status.busy": "2021-09-08T19:15:12.220202Z",
     "iopub.status.idle": "2021-09-08T19:15:13.663616Z",
     "shell.execute_reply": "2021-09-08T19:15:13.663616Z",
     "shell.execute_reply.started": "2021-09-08T19:15:12.221203Z"
    }
   },
   "outputs": [
    {
     "name": "stdout",
     "output_type": "stream",
     "text": [
      "f= 721.6191021085695 \talfaH1= 23.914760200862816 \talfaH= 23.914760200862816 \tXmin= 0.9443797214671098\n"
     ]
    },
    {
     "data": {
      "image/png": "[encoded data removed]",
      "text/plain": [
       "<Figure size 720x504 with 1 Axes>"
      ]
     },
     "metadata": {
      "needs_background": "light"
     },
     "output_type": "display_data"
    }
   ],
   "source": [
    "%matplotlib inline\n",
    "\n",
    "from mpl_toolkits import mplot3d\n",
    "from matplotlib import pyplot as plt\n",
    "from matplotlib import cm\n",
    "import numpy as np\n",
    "np.set_printoptions(suppress=True)\n",
    "# import scipy as sp\n",
    "import pandas as pd\n",
    "\n",
    "alfa = 58 * np.pi/180 ; h = 480; w = 640; gama = np.tan(h/w)\n",
    "b = 0.2 # unit: metres\n",
    "# formula from https://learnopencv.com/approximate-focal-length-for-webcams-and-cell-phone-cameras/\n",
    "f = np.sqrt(h*h + w*w) / 2 / np.tan(alfa/2) # unit: pixels\n",
    "# formula from http://www.therandomlab.com/2013/03/logitech-c920-and-c910-fields-of-view.html\n",
    "alfaH1 = 2 * np.arctan( np.tan(alfa) * np.cos( np.arctan(h/w) ) )\n",
    "# my formula\n",
    "alfaH = np.arctan(w/2/f)\n",
    "\n",
    "Zmin = b / np.tan(alfaH/2)\n",
    "Zvals = np.arange(Zmin, Zmin+1.001, 0.1)\n",
    "Xvals = np.arange(0, b+0.001, 0.05)\n",
    "print(\"f=\", f, '\\talfaH1=', alfaH*180/np.pi, '\\talfaH=', alfaH*180/np.pi, \"\\tXmin=\", Zmin)\n",
    "\n",
    "data = np.array([[0,0,0,0]])\n",
    "for Z in Zvals:\n",
    "    for X in Xvals:\n",
    "        XL = X/Z*f;  XR = (X-b)/Z*f\n",
    "#         print(Z, X, XL, XR)\n",
    "        data = np.append(data, [[X,Z,XL,XR]], axis=0)\n",
    "disparityDF = pd.DataFrame({'cx':data[:,0], 'cz':data[:,1], 'cXL':data[:,2], 'cX':data[:,3]})  \n",
    "data = np.delete(data,0,0)\n",
    "# print(disparityDF)\n",
    "        \n",
    "fig = plt.figure(figsize = (10, 7))\n",
    "plt.tight_layout()\n",
    "ax = plt.axes(projection =\"3d\")\n",
    "ax.view_init(35, 160)\n",
    "XX = data[:,0]; YY = data[:,1]; ZZ = data[:,2]-data[:,3]\n",
    "ax.scatter3D(XX, YY, ZZ, color = \"green\")\n",
    "Xm, Zm = np.meshgrid(Xvals, Zvals)\n",
    "Disparitym = b/Zm*f\n",
    "surf = ax.plot_surface(Xm, Zm, Disparitym, alpha=0.6, \\\n",
    "                       cmap=cm.viridis, linewidth=0, antialiased=False)\n",
    "#cmaps: viridis, cividis, magma, plasma, inferno, hot, gnuplot2, jet\n",
    "# winter, spring, summer, autumn, cool, wistia, cubehelix, gist_earth, ocean\n",
    "# copper, pink, gray, bone, BuPu, YlGnBu, GnBu, \n",
    "# more in https://matplotlib.org/stable/tutorials/colors/colormaps.html\n",
    "plt.title(\"disparity vs object X and Z coordinates\")\n",
    "ax.set_xlabel(\"X\"); ax.set_ylabel(\"Distance Z\"); ax.set_zlabel(\"Disparity\")\n",
    "plt.show()\n",
    "\n",
    "\n",
    "# fig = plt.figure(figsize=(9,3))\n",
    "# for i in range(8):\n",
    "#     #plt.plot( DQdata[:,i], c=[0.25+i*0.75/iter_steps,0.75-i*0.75/iter_steps,i/iter_steps])#, alpha=i/iter_steps)\n",
    "#     plt.plot( DQdata[:,i], c=[max(0,1-2*i/7), .8+min(.5-i/7,i/7-.5), max(0,2*i/7-1)])\n",
    "# plt.show()\n",
    "\n",
    "# plt.figure(figsize=(8,4.5)); plt.imshow(im1); plt.tight_layout()\n"
   ]
  },
  {
   "cell_type": "code",
   "execution_count": 14,
   "metadata": {
    "execution": {
     "iopub.execute_input": "2021-09-04T04:08:59.220166Z",
     "iopub.status.busy": "2021-09-04T04:08:59.220166Z",
     "iopub.status.idle": "2021-09-04T04:08:59.224157Z",
     "shell.execute_reply": "2021-09-04T04:08:59.224157Z",
     "shell.execute_reply.started": "2021-09-04T04:08:59.220166Z"
    }
   },
   "outputs": [
    {
     "name": "stdout",
     "output_type": "stream",
     "text": [
      "Available matplotlib backends: ['tk', 'gtk', 'gtk3', 'wx', 'qt4', 'qt5', 'qt', 'osx', 'nbagg', 'notebook', 'agg', 'svg', 'pdf', 'ps', 'inline', 'ipympl', 'widget']\n"
     ]
    }
   ],
   "source": [
    "%matplotlib --list"
   ]
  },
  {
   "cell_type": "code",
   "execution_count": null,
   "metadata": {},
   "outputs": [],
   "source": []
  },
  {
   "cell_type": "code",
   "execution_count": 28,
   "metadata": {
    "execution": {
     "iopub.execute_input": "2021-08-31T00:42:33.311670Z",
     "iopub.status.busy": "2021-08-31T00:42:33.311670Z",
     "iopub.status.idle": "2021-08-31T00:42:33.321680Z",
     "shell.execute_reply": "2021-08-31T00:42:33.321680Z",
     "shell.execute_reply.started": "2021-08-31T00:42:33.311670Z"
    }
   },
   "outputs": [],
   "source": [
    "import numpy as np\n",
    "import pandas as pd\n",
    "\n",
    "x = np.arange(6,8.5,0.5)\n",
    "y = x + np.random.randn()\n",
    "output_df = pd.DataFrame({'cx':x, 'cy':y})  \n",
    "output_df.to_csv('output_file_name.dat', index=False)#, sep='\\t')\n",
    "\n"
   ]
  },
  {
   "cell_type": "code",
   "execution_count": 27,
   "metadata": {
    "execution": {
     "iopub.execute_input": "2021-08-31T00:31:35.598284Z",
     "iopub.status.busy": "2021-08-31T00:31:35.598284Z",
     "iopub.status.idle": "2021-08-31T00:31:35.616270Z",
     "shell.execute_reply": "2021-08-31T00:31:35.614296Z",
     "shell.execute_reply.started": "2021-08-31T00:31:35.598284Z"
    }
   },
   "outputs": [
    {
     "data": {
      "text/plain": [
       "'  cx        cy\\n 6.0  5.247675\\n 6.5  5.747675\\n 7.0  6.247675\\n 7.5  6.747675\\n 8.0  7.247675'"
      ]
     },
     "execution_count": 27,
     "metadata": {},
     "output_type": "execute_result"
    }
   ],
   "source": [
    "output_df.to_string(index=False)"
   ]
  },
  {
   "cell_type": "code",
   "execution_count": 9,
   "metadata": {
    "execution": {
     "iopub.execute_input": "2021-08-31T00:06:36.035521Z",
     "iopub.status.busy": "2021-08-31T00:06:36.035521Z",
     "iopub.status.idle": "2021-08-31T00:06:36.038523Z",
     "shell.execute_reply": "2021-08-31T00:06:36.038523Z",
     "shell.execute_reply.started": "2021-08-31T00:06:36.035521Z"
    }
   },
   "outputs": [
    {
     "data": {
      "text/plain": [
       "\u001b[1;31mDocstring:\u001b[0m\n",
       "random(size=None)\n",
       "\n",
       "Return random floats in the half-open interval [0.0, 1.0). Alias for\n",
       "`random_sample` to ease forward-porting to the new random API.\n",
       "\u001b[1;31mType:\u001b[0m      builtin_function_or_method\n"
      ]
     },
     "metadata": {},
     "output_type": "display_data"
    }
   ],
   "source": []
  },
  {
   "cell_type": "code",
   "execution_count": 21,
   "metadata": {
    "execution": {
     "iopub.execute_input": "2021-09-13T21:18:39.523634Z",
     "iopub.status.busy": "2021-09-13T21:18:39.522633Z",
     "iopub.status.idle": "2021-09-13T21:18:39.617698Z",
     "shell.execute_reply": "2021-09-13T21:18:39.617698Z",
     "shell.execute_reply.started": "2021-09-13T21:18:39.522633Z"
    }
   },
   "outputs": [
    {
     "name": "stdout",
     "output_type": "stream",
     "text": [
      "[ 0.4  0.   0.2  0.   0.   1.  -1.   0.   0.  -0.  -1.   0. ]\n",
      "[ 0.4        -0.04        0.2         0.20601133  0.26364769  0.94236364\n",
      " -0.94236364 -0.20601133  0.26364769  0.26364769 -0.94236364  0.20601133]\n",
      "[ 0.4        -0.08        0.2         0.31876507  0.53934466  0.7794204\n",
      " -0.7794204  -0.31876507  0.53934466  0.53934466 -0.7794204   0.31876507]\n",
      "[ 0.4        -0.12        0.2         0.31876507  0.7794204   0.53934466\n",
      " -0.53934466 -0.31876507  0.7794204   0.7794204  -0.53934466  0.31876507]\n",
      "[ 0.4        -0.16        0.2         0.20601133  0.94236364  0.26364769\n",
      " -0.26364769 -0.20601133  0.94236364  0.94236364 -0.26364769  0.20601133]\n",
      "[ 0.4 -0.2  0.2  0.   1.   0.  -0.   0.   1.   1.  -0.   0. ]\n",
      "[ 0.4 -0.2  0.2  0.   1.  -0.  -0.   0.   1.   1.  -0.   0. ]\n",
      "[ 0.38       -0.2         0.24        0.          0.95105652 -0.30901699\n",
      " -0.          0.30901699  0.95105652  1.         -0.          0.        ]\n",
      "[ 0.36       -0.2         0.28        0.          0.80901699 -0.58778525\n",
      "  0.          0.58778525  0.80901699  1.         -0.          0.        ]\n",
      "[ 0.34       -0.2         0.32        0.          0.58778525 -0.80901699\n",
      " -0.          0.80901699  0.58778525  1.         -0.          0.        ]\n",
      "[ 0.32       -0.2         0.36        0.          0.30901699 -0.95105652\n",
      " -0.          0.95105652  0.30901699  1.          0.          0.        ]\n",
      "[ 0.3 -0.2  0.4  0.  -0.  -1.  -0.   1.  -0.   1.   0.   0. ]\n",
      "[ 0.28       -0.2         0.44        0.         -0.30901699 -0.95105652\n",
      "  0.          0.95105652 -0.30901699  1.          0.          0.        ]\n",
      "[ 0.26       -0.2         0.48        0.         -0.58778525 -0.80901699\n",
      "  0.          0.80901699 -0.58778525  1.          0.          0.        ]\n",
      "[ 0.24       -0.2         0.52        0.         -0.80901699 -0.58778525\n",
      "  0.          0.58778525 -0.80901699  1.          0.          0.        ]\n",
      "[ 0.22       -0.2         0.56        0.         -0.95105652 -0.30901699\n",
      "  0.          0.30901699 -0.95105652  1.          0.          0.        ]\n",
      "[ 0.2 -0.2  0.6  0.  -1.   0.   0.   0.  -1.   1.   0.   0. ]\n",
      "[ 0.2 -0.2  0.6  0.  -1.  -0.   0.   0.  -1.   1.   0.   0. ]\n",
      "[ 0.2        -0.16        0.6         0.41562694 -0.80901699 -0.41562694\n",
      " -0.0954915   0.41562694 -0.9045085   0.9045085   0.41562694  0.0954915 ]\n",
      "[ 0.2        -0.12        0.6         0.67249851 -0.30901699 -0.67249851\n",
      " -0.3454915   0.67249851 -0.6545085   0.6545085   0.67249851  0.3454915 ]\n",
      "[ 0.2        -0.08        0.6         0.67249851  0.30901699 -0.67249851\n",
      " -0.6545085   0.67249851 -0.3454915   0.3454915   0.67249851  0.6545085 ]\n",
      "[ 0.2        -0.04        0.6         0.41562694  0.80901699 -0.41562694\n",
      " -0.9045085   0.41562694 -0.0954915   0.0954915   0.41562694  0.9045085 ]\n",
      "[ 0.2  0.   0.6  0.   1.  -0.  -1.   0.   0.   0.   0.   1. ]\n",
      "[ 0.2  0.   0.6  0.   1.   0.  -1.   0.   0.   0.   0.   1. ]\n",
      "[ 0.22        0.02        0.6         0.11275374  0.98543173 -0.127322\n",
      " -0.98543173  0.127322    0.11275374  0.127322    0.11275374  0.98543173]\n",
      "[ 0.24        0.04        0.6         0.20601133  0.94236364 -0.26364769\n",
      " -0.94236364  0.26364769  0.20601133  0.26364769  0.20601133  0.94236364]\n",
      "[ 0.26        0.06        0.6         0.27569697  0.872678   -0.40301898\n",
      " -0.872678    0.40301898  0.27569697  0.40301898  0.27569697  0.872678  ]\n",
      "[ 0.28        0.08        0.6         0.31876507  0.7794204  -0.53934466\n",
      " -0.7794204   0.53934466  0.31876507  0.53934466  0.31876507  0.7794204 ]\n",
      "[ 0.3         0.1         0.6         0.33333333  0.66666667 -0.66666667\n",
      " -0.66666667  0.66666667  0.33333333  0.66666667  0.33333333  0.66666667]\n",
      "[ 0.32        0.12        0.6         0.31876507  0.53934466 -0.7794204\n",
      " -0.53934466  0.7794204   0.31876507  0.7794204   0.31876507  0.53934466]\n",
      "[ 0.34        0.14        0.6         0.27569697  0.40301898 -0.872678\n",
      " -0.40301898  0.872678    0.27569697  0.872678    0.27569697  0.40301898]\n",
      "[ 0.36        0.16        0.6         0.20601133  0.26364769 -0.94236364\n",
      " -0.26364769  0.94236364  0.20601133  0.94236364  0.20601133  0.26364769]\n",
      "[ 0.38        0.18        0.6         0.11275374  0.127322   -0.98543173\n",
      " -0.127322    0.98543173  0.11275374  0.98543173  0.11275374  0.127322  ]\n",
      "[ 0.4  0.2  0.6  0.   0.  -1.  -0.   1.   0.   1.   0.   0. ]\n",
      "[ 0.4  0.2  0.6  0.   0.  -1.   0.   1.   0.   1.   0.   0. ]\n",
      "[ 0.4         0.2         0.56        0.127322    0.11275374 -0.98543173\n",
      "  0.11275374  0.98543173  0.127322    0.98543173 -0.127322    0.11275374]\n",
      "[ 0.4         0.2         0.52        0.26364769  0.20601133 -0.94236364\n",
      "  0.20601133  0.94236364  0.26364769  0.94236364 -0.26364769  0.20601133]\n",
      "[ 0.4         0.2         0.48        0.40301898  0.27569697 -0.872678\n",
      "  0.27569697  0.872678    0.40301898  0.872678   -0.40301898  0.27569697]\n",
      "[ 0.4         0.2         0.44        0.53934466  0.31876507 -0.7794204\n",
      "  0.31876507  0.7794204   0.53934466  0.7794204  -0.53934466  0.31876507]\n",
      "[ 0.4         0.2         0.4         0.66666667  0.33333333 -0.66666667\n",
      "  0.33333333  0.66666667  0.66666667  0.66666667 -0.66666667  0.33333333]\n",
      "[ 0.4         0.2         0.36        0.7794204   0.31876507 -0.53934466\n",
      "  0.31876507  0.53934466  0.7794204   0.53934466 -0.7794204   0.31876507]\n",
      "[ 0.4         0.2         0.32        0.872678    0.27569697 -0.40301898\n",
      "  0.27569697  0.40301898  0.872678    0.40301898 -0.872678    0.27569697]\n",
      "[ 0.4         0.2         0.28        0.94236364  0.20601133 -0.26364769\n",
      "  0.20601133  0.26364769  0.94236364  0.26364769 -0.94236364  0.20601133]\n",
      "[ 0.4         0.2         0.24        0.98543173  0.11275374 -0.127322\n",
      "  0.11275374  0.127322    0.98543173  0.127322   -0.98543173  0.11275374]\n",
      "[ 0.4  0.2  0.2  1.   0.  -0.   0.   0.   1.   0.  -1.   0. ]\n",
      "[ 0.4  0.2  0.2  1.   0.   0.   0.   0.   1.   0.  -1.   0. ]\n",
      "[ 0.4         0.16        0.2         0.95105652  0.          0.30901699\n",
      " -0.30901699  0.          0.95105652  0.         -1.          0.        ]\n",
      "[ 0.4         0.12        0.2         0.80901699  0.          0.58778525\n",
      " -0.58778525  0.          0.80901699  0.         -1.          0.        ]\n",
      "[ 0.4         0.08        0.2         0.58778525  0.          0.80901699\n",
      " -0.80901699 -0.          0.58778525  0.         -1.         -0.        ]\n",
      "[ 0.4         0.04        0.2         0.30901699  0.          0.95105652\n",
      " -0.95105652  0.          0.30901699  0.         -1.          0.        ]\n",
      "[ 0.4  0.   0.2  0.   0.   1.  -1.   0.   0.   0.  -1.   0. ]\n"
     ]
    }
   ],
   "source": [
    "import numpy as np\n",
    "import pandas as pd\n",
    "import pydqalg as dq\n",
    "\n",
    "class Traj:\n",
    "    def __init__(self):\n",
    "        self.Pts = np.empty((3,3))\n",
    "        self.N=0\n",
    "\n",
    "    def __repr__(self):\n",
    "        return np.array_str(self.Pts)\n",
    "        \n",
    "#     def __str__(self): # for printing\n",
    "#         return 'Quat(%f, [%f, %f, %f])' % \\\n",
    "#             ( self.s, self.v[0], self.v[1], self.v[2] )\n",
    "        \n",
    "    def AddNewHTM(self, NewHTM):\n",
    "        NewHTM = np.array(NewHTM)\n",
    "        NewRow = np.ravel(NewHTM[:3,:].T).reshape(1,-1)\n",
    "        if self.N == 0:\n",
    "            self.Pts = np.array(NewRow)\n",
    "        else:\n",
    "            self.Pts = np.append(self.Pts, NewRow, axis=0)\n",
    "        self.N += 1\n",
    "\n",
    "    def AddNewNOAP(self,NOAPVec):\n",
    "        NOAPVec = NOAPVec.reshape(1,-1)\n",
    "        if self.N == 0:\n",
    "            self.Pts = np.array(NOAPVec)\n",
    "        else:\n",
    "            self.Pts = np.append(self.Pts, NOAPVec, axis=0)\n",
    "        self.N += 1\n",
    "        \n",
    "        \n",
    "def AAP2NOAP(Axis, AngDeg, Posn):\n",
    "    return np.append( dq.axisangle2q(Axis,dq.D2R(AngDeg)).\n",
    "                     q2rotmat().T.ravel(), Posn )\n",
    "        \n",
    "\n",
    "# TA = Traj()\n",
    "# TA.AddNewHTM([[-1,1,1,.1],[2,-2,2,.2],[3,3,-3,.3],[0,0,0,1]])\n",
    "# TA.AddNewHTM([[3,-2,-1,-.5],[-3,2,-1,-.5],[-3,2,-1,-.5],[0,0,0,1]])\n",
    "\n",
    "# B=dq.axisangle2q([1,1,1],dq.D2R(-120)).q2rotmat()\n",
    "# np.append(dq.axisangle2q([1,1,1],dq.D2R(-120)).q2rotmat().T.ravel(), [0.5,-0.5,0.1])\n",
    "# \n",
    "# TA.AddNewNOAP( AAP2NOAP([1,1,1], 120, [0.5,-0.5, 0.1]) )\n",
    "\n",
    "# print((TA.Pts))\n",
    "\n",
    "\n",
    "TB = Traj(); interpStep = 0.1\n",
    "\n",
    "PO = np.array([0.4, 0, 0.2]); QO=dq.axisangle2q([1,-1,1],dq.D2R(120));\n",
    "PA = np.array([0.4, -0.2, 0.2]); QA=dq.axisangle2q([1,1,1],dq.D2R(120));\n",
    "# print(A*A*A, B*B*B); print(A.power(3), B.power(3))\n",
    "# print(\"A\\n\", np.append( PA, QA.q2rotmat().T.ravel() )\n",
    "\n",
    "PB = np.array([0.2, -0.2, 0.6]); QB=dq.axisangle2q([-1,1,-1],dq.D2R(120));\n",
    "\n",
    "PC = np.array([0.2, 0, 0.6]); QC=dq.axisangle2q([0,0,1],dq.D2R(90));\n",
    "\n",
    "PD = np.array([0.4, 0.2, 0.6]); QD=dq.axisangle2q([0,1,0],dq.D2R(90));\n",
    "\n",
    "PE = np.array([0.4, 0.2, 0.2]); QE=dq.axisangle2q([1,0,0],dq.D2R(90));\n",
    "\n",
    "\n",
    "# for i in np.arange(0,1+interpStep,interpStep): \n",
    "#     QEO = QE * (QE.conj() * QO).power(i);  PEO = PE + i * (-PE + PO)\n",
    "#     noap = np.append( PEO, QEO.q2rotmat().T.ravel() ); print(noap)\n",
    "#     TB.AddNewNOAP( noap )\n",
    "\n",
    "def makeInterpNOAP(Traj0, P0, Q0, P1, Q1, interpStep):\n",
    "    for i in np.arange(0,1+interpStep,interpStep): \n",
    "        Q01 = Q0 * (Q0.conj() * Q1).power(i);  P01 = P0 + i * (-P0 + P1)\n",
    "        noap = np.append( P01, Q01.q2rotmat().T.ravel() ); print(noap)\n",
    "        Traj0.AddNewNOAP( noap )\n",
    "\n",
    "makeInterpNOAP(TB, PO, QO, PA, QA, 0.2)\n",
    "makeInterpNOAP(TB, PA, QA, PB, QB, 0.1)\n",
    "makeInterpNOAP(TB, PB, QB, PC, QC, 0.2)\n",
    "makeInterpNOAP(TB, PC, QC, PD, QD, 0.1)\n",
    "makeInterpNOAP(TB, PD, QD, PE, QE, 0.1)\n",
    "makeInterpNOAP(TB, PE, QE, PO, QO, 0.2)\n",
    "# print(TB.Pts)\n",
    "\n",
    "DFColumns = ['Px','Py','Pz','Nx','Ny','Nz', 'Ox','Oy','Oz', 'Ax','Ay','Az']\n",
    "output_df = pd.DataFrame(TB.Pts, columns=DFColumns)  \n",
    "output_df.to_csv('../../quiver1.dat', index=False)#, sep='\\t')\n"
   ]
  },
  {
   "cell_type": "code",
   "execution_count": 112,
   "metadata": {
    "execution": {
     "iopub.execute_input": "2021-09-15T13:05:37.235429Z",
     "iopub.status.busy": "2021-09-15T13:05:37.234428Z",
     "iopub.status.idle": "2021-09-15T13:05:37.613696Z",
     "shell.execute_reply": "2021-09-15T13:05:37.612703Z",
     "shell.execute_reply.started": "2021-09-15T13:05:37.235429Z"
    }
   },
   "outputs": [
    {
     "name": "stdout",
     "output_type": "stream",
     "text": [
      "[[ 0.  1.  0.]\n",
      " [-0.  0. -1.]\n",
      " [-1.  0.  0.]] [[ 0.  0.  1.]\n",
      " [-1.  0.  0.]\n",
      " [-0. -1.  0.]]\n"
     ]
    },
    {
     "data": {
      "application/vnd.jupyter.widget-view+json": {
       "model_id": "2b4ba425bc3c47ec8cad8013a3f33a43",
       "version_major": 2,
       "version_minor": 0
      },
      "text/plain": [
       "interactive(children=(IntSlider(value=35, description='azimuth', max=180, min=-180), IntSlider(value=-60, desc…"
      ]
     },
     "metadata": {},
     "output_type": "display_data"
    },
    {
     "name": "stdout",
     "output_type": "stream",
     "text": [
      "{'azimuth': 35, 'ang2': -60, 'q0': 20.0, 'q1': 1.0, 'q2': 1.0, 'q3': 1.0} [[ 0.95979508 -0.17736296  0.21756788]\n",
      " [ 0.21756788  0.95979508 -0.17736296]\n",
      " [-0.17736296  0.21756788  0.95979508]]\n"
     ]
    }
   ],
   "source": [
    "%matplotlib inline\n",
    "\n",
    "from mpl_toolkits import mplot3d\n",
    "from matplotlib import pyplot as plt\n",
    "\n",
    "import numpy as np\n",
    "import pandas as pd\n",
    "import pydqalg as dq\n",
    "\n",
    "\n",
    "QA=dq.axisangle2q([1,1,1],dq.D2R(-120)).q2rotmat()\n",
    "\n",
    "PB = np.array([0.4, -0.2, 0.3]); QB=dq.axisangle2q([1,1,-1],dq.D2R(120));\n",
    "PC = np.array([0.3, -0.2, 0.6]); QC=dq.axisangle2q([-1,1,-1],dq.D2R(120));\n",
    "print(QB.q2rotmat(), QC.q2rotmat())\n",
    "# dq.rotmat2q([[0,1,0], [1,0,-1], [0,0,-1]])\n",
    "# dq.axisangle2q([1,-1,0], dq.D2R(180)).q2rotmat()\n",
    "\n",
    "\n",
    "from ipywidgets import interact, interactive, fixed, interact_manual\n",
    "import ipywidgets as widgets\n",
    "\n",
    "# def f1(x):\n",
    "#     return x+3\n",
    "# k=interact(f1, x=(0.0,10.0,1));\n",
    "\n",
    "from IPython.display import display\n",
    "\n",
    "def f(azimuth=35, ang2=-60, q0=20, q1=1, q2=1, q3=1, ):\n",
    "    Q = dq.axisangle2q([q1,q2,q3],dq.D2R(q0))\n",
    "#     display(Q)\n",
    "    fig = plt.figure(figsize = (10, 7))\n",
    "    plt.tight_layout()\n",
    "    ax = plt.axes(projection =\"3d\", proj_type = 'ortho')\n",
    "    ax.view_init(azimuth, ang2)\n",
    "    plt.title(w.result)\n",
    "    noa = Q.q2rotmat().T.ravel()\n",
    "    ax.set_xlim([-1,1]);  ax.set_ylim([-1,1]);  ax.set_zlim([-1,1]); \n",
    "    ax.quiver(0, 0, 0, 1, 0, 0, color = \"red\", alpha=0.2, length=1.2, \\\n",
    "              linestyle='dashed')\n",
    "    ax.quiver(0, 0, 0, 0, 1, 0, color = \"green\", alpha=0.2, length=1.2, \\\n",
    "              linestyle='dashed')\n",
    "    ax.quiver(0, 0, 0, 0, 0, 1, color = \"blue\", alpha=0.2, length=1.2, \\\n",
    "              linestyle='dashed')\n",
    "    ax.quiver(0, 0, 0, Q.v[0],Q.v[1],Q.v[2], normalize=True,\n",
    "          color = \"black\", alpha=0.5, linewidth=2, linestyle='-.')\n",
    "    \n",
    "    ax.quiver(0, 0, 0, noa[0], noa[1], noa[2], \\\n",
    "              color = \"red\", alpha=0.5, linewidth=2)\n",
    "    ax.quiver(0, 0, 0, noa[3], noa[4], noa[5], \\\n",
    "              color = \"green\", alpha=0.3, linewidth=2)\n",
    "    ax.quiver(0, 0, 0, noa[6], noa[7], noa[8], \\\n",
    "              color = \"blue\", alpha=0.3, linewidth=2)\n",
    "    ax.set_xlabel(\"X\"); ax.set_ylabel(\"Y\"); ax.set_zlabel(\"Z\")\n",
    "#     ax.spines['left'].set_position('center')\n",
    "#     ax.spines['bottom'].set_position('center')\n",
    "    plt.show()\n",
    "    return Q\n",
    "\n",
    "v_range=(-10,10,0.01)\n",
    "w = interactive(f, azimuth=(-180,180), ang2=(-180,180), q0=(-360,360,0.1), \n",
    "                q1=v_range, q2=v_range, q3=v_range)\n",
    "display(w)\n",
    "print(w.kwargs,w.result.q2rotmat())\n"
   ]
  },
  {
   "cell_type": "code",
   "execution_count": 25,
   "metadata": {
    "execution": {
     "iopub.execute_input": "2021-09-13T21:32:27.910101Z",
     "iopub.status.busy": "2021-09-13T21:32:27.910101Z",
     "iopub.status.idle": "2021-09-13T21:32:27.936119Z",
     "shell.execute_reply": "2021-09-13T21:32:27.936119Z",
     "shell.execute_reply.started": "2021-09-13T21:32:27.910101Z"
    }
   },
   "outputs": [
    {
     "data": {
      "application/vnd.jupyter.widget-view+json": {
       "model_id": "967eb63ae4c142eb98bbe33f2436d209",
       "version_major": 2,
       "version_minor": 0
      },
      "text/plain": [
       "interactive(children=(Checkbox(value=True, description='x'), FloatSlider(value=1.0, description='y', max=3.0, …"
      ]
     },
     "metadata": {},
     "output_type": "display_data"
    }
   ],
   "source": [
    "dq.D2R(60)"
   ]
  },
  {
   "cell_type": "code",
   "execution_count": null,
   "metadata": {},
   "outputs": [],
   "source": [
    "\n",
    "\n"
   ]
  }
 ],
 "metadata": {
  "kernelspec": {
   "display_name": "Python 3",
   "language": "python",
   "name": "python3"
  },
  "language_info": {
   "codemirror_mode": {
    "name": "ipython",
    "version": 3
   },
   "file_extension": ".py",
   "mimetype": "text/x-python",
   "name": "python",
   "nbconvert_exporter": "python",
   "pygments_lexer": "ipython3",
   "version": "3.8.5"
  }
 },
 "nbformat": 4,
 "nbformat_minor": 4
}
